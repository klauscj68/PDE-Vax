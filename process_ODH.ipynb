{
 "cells": [
  {
   "cell_type": "markdown",
   "id": "numerous-smile",
   "metadata": {},
   "source": [
    "# Process ODH Data\n",
    "This notebook extracts the necessary numbers for PDE DSA from the output of my parseODH.py script."
   ]
  },
  {
   "cell_type": "code",
   "execution_count": null,
   "id": "eleven-pavilion",
   "metadata": {},
   "outputs": [],
   "source": [
    "using CSV,DataFrames,Dates,Plots,Measures,ColorSchemes,Printf\n",
    "gr();clr=palette(:default,rev=true); default(palette=clr);\n",
    "\n",
    "include(\"bspl1d.jl\");\n",
    "\n",
    "ENV[\"COLUMNS\"]=10000;"
   ]
  },
  {
   "cell_type": "markdown",
   "id": "dominican-leather",
   "metadata": {},
   "source": [
    "## Inputs"
   ]
  },
  {
   "cell_type": "code",
   "execution_count": null,
   "id": "rising-survival",
   "metadata": {},
   "outputs": [],
   "source": [
    "# Inputs\n",
    "day0 = Date(\"2020-11-15\");\n",
    "dayf = Date(\"2021-01-15\");\n",
    "\n",
    "# From ERoot\n",
    "agekeys = [\"0-9\",\"10-19\",\"20-29\",\"30-39\",\"40-49\",\"50-59\",\"60-69\",\"70-79\",\"80+\"]\n",
    "ohiopop = Dict{String,Float64}(\n",
    "           \"0-9\"=>695933. + 1/3*2233431,\n",
    "          \"10-19\"=>2. /3*2233431,\n",
    "          \"20-29\"=>1554324.,\n",
    "          \"30-39\"=>1428941.,\n",
    "          \"40-49\"=>691199. + 1/2*1544429,\n",
    "          \"50-59\"=>1/2*1544429. + 834920,\n",
    "          \"60-69\"=>765841. + 631247,\n",
    "          \"70-79\"=>449394. + 331259,\n",
    "          \"80+\"=>228889. + 252072);\n",
    "totpop = sum([ohiopop[key] for key in keys(ohiopop)]);\n",
    "println(\"Total Ohio Population: $totpop\")\n",
    "\n",
    "# Normalizations from case counts to probability densities for comparing to pde prediction\n",
    "#  At t=0 assumed only yˢ starts with nonzero values at time t=0\n",
    "tsim = getfield(dayf-day0,:value);\n",
    "ηyˢ = 1/totpop/(100*365+tsim);\n",
    "ηyᵛ = 1/totpop/tsim;\n",
    "ηyⁱ = 1/totpop/tsim;"
   ]
  },
  {
   "cell_type": "markdown",
   "id": "utility-creativity",
   "metadata": {},
   "source": [
    "## Plot formatting\n",
    "For gr plot scaling was seeing<br>\n",
    "10.42in = 750px* r =><br>\n",
    "r = 10.42in/750px=><br>\n",
    "7.5in = 750px* r *lambda = 750px*(10.42in/750px)*lambda => 7.5in/10.42in=lambda<br><br>\n",
    "\n",
    "Also seeing fontsize 12 gets mapped to fontsize 18"
   ]
  },
  {
   "cell_type": "code",
   "execution_count": null,
   "id": "related-involvement",
   "metadata": {},
   "outputs": [],
   "source": [
    "# Plot formatting\n",
    "#  Finding that to get right output dimensions and font sizes for gr have to manually\n",
    "#  compute scaling factors based on an observed print output\n",
    "λplot = 100*7.5/10.42; λfont = 12/18; #scaling factors\n",
    "\n",
    "# Final output two panel figure dimensions\n",
    "figwdth = 7.45; fighght = 3.25; # inches\n",
    "\n",
    "# Final output figure fontsizes\n",
    "figtickfontsize = 12; figguidefontsize = 14; figtitlefontsize = 16; figlegendfontsize=8;"
   ]
  },
  {
   "cell_type": "code",
   "execution_count": null,
   "id": "fifth-submission",
   "metadata": {},
   "outputs": [],
   "source": [
    "lnopt = [:solid, :dash, :dot, :dashdot, :dashdotdot];\n",
    "mkopt = [:none, :auto, :circle, :rect, :star5, :diamond, :hexagon, :cross, \n",
    "         :xcross, :utriangle, :dtriangle, :rtriangle, :ltriangle, :pentagon, \n",
    "         :heptagon, :octagon, :star4, :star6, :star7, :star8, :vline, :hline, \n",
    "         :+, :x]; "
   ]
  },
  {
   "cell_type": "markdown",
   "id": "aggregate-logistics",
   "metadata": {},
   "source": [
    "## Function routines for processing"
   ]
  },
  {
   "cell_type": "code",
   "execution_count": null,
   "id": "cosmetic-american",
   "metadata": {},
   "outputs": [],
   "source": [
    "function mymvavg(v::Vector{Float64})\n",
    "    w = similar(v);\n",
    "    for i=1:length(v)\n",
    "        a = i-3<1 ? 1 : i-3;\n",
    "        b = i+3>length(v) ? length(v) : i+3;\n",
    "        \n",
    "        w[i] = sum(v[a:b])/length(v[a:b]);\n",
    "    end\n",
    "    return w\n",
    "end;"
   ]
  },
  {
   "cell_type": "markdown",
   "id": "hazardous-winter",
   "metadata": {},
   "source": [
    "## Data\n",
    "#### ODH cases"
   ]
  },
  {
   "cell_type": "code",
   "execution_count": null,
   "id": "likely-elder",
   "metadata": {},
   "outputs": [],
   "source": [
    "dfodh = CSV.read(\"ODH_Data\\\\ODH_0119.csv\",DataFrame);\n",
    "println(\"Raw ODH:\");\n",
    "first(dfodh,3)"
   ]
  },
  {
   "cell_type": "code",
   "execution_count": null,
   "id": "modular-wales",
   "metadata": {},
   "outputs": [],
   "source": [
    "flag = (dfodh[!,:time].>=day0).&(dfodh[!,:time].<=dayf);\n",
    "dftemp = dfodh[flag,:]; \n",
    "dfwave = deepcopy(dftemp);\n",
    "for i=2:12\n",
    "    dfwave[!,i]=mymvavg(dftemp[!,i]);\n",
    "end\n",
    "println(\"7-day averaged ODH:\")\n",
    "first(dfwave,3)"
   ]
  },
  {
   "cell_type": "code",
   "execution_count": null,
   "id": "unauthorized-butterfly",
   "metadata": {
    "scrolled": true
   },
   "outputs": [],
   "source": [
    "p1 = plot(dfodh[!,:time],dfodh[!,:daily_confirm],linewidth=1,linestyle=:dash,labels=\"\",xlabel=\"date\",ylabel=\"reported\",\n",
    "     title=\"ODH daily cases\");\n",
    "plot!(dftemp[!,:time],dftemp[!,:daily_confirm],linewidth=2,labels=\"\");\n",
    "\n",
    "p2 = plot(dftemp[!,:time],dftemp[!,:daily_confirm],linewidth=1,linestyle=:dash,labels=\"reported\",xlabel=\"date\",ylabel=\"\")\n",
    "plot!(dftemp[!,:time],dfwave[!,:daily_confirm],linewidth=2,labels=\"7-day avg\",title=\"First wave\");\n",
    "\n",
    "lay = @layout [a b]\n",
    "plot(p1,p2,layout=lay,size=(figwdth*λplot,fighght*λplot),margin=1mm,\n",
    "     tickfontsize=round(figtickfontsize*λfont),guidefontsize=round(figguidefontsize*λfont),\n",
    "     titlefontsize=round(figtitlefontsize*λfont),legendfontsize=round(figlegendfontsize*λfont))"
   ]
  },
  {
   "cell_type": "code",
   "execution_count": null,
   "id": "assured-shooting",
   "metadata": {},
   "outputs": [],
   "source": [
    "p3 = plot(dfwave[!,\"time\"],[dfwave[:,i] for i=2:10],legend=:topleft,size=(950,300),linewidth=2,\n",
    "          labels=[\"0-9\" \"10-19\" \"20-29\" \"30-39\" \"40-49\" \"50-59\" \"60-69\" \"70-79\" \"80+\"],\n",
    "          title=\"ODH 7-day average\",xlabel=\"date\",ylabel=\"daily cases\",margin=5mm,\n",
    "          palette=clr)\n",
    "println(\"How to compute data we are fitting from this?\")\n",
    "plot!(xticks=day0:Day(14):dayf)"
   ]
  },
  {
   "cell_type": "code",
   "execution_count": null,
   "id": "sudden-retail",
   "metadata": {},
   "outputs": [],
   "source": [
    "CSV.write(\"ODH_snipdaily.csv\",dfwave);"
   ]
  },
  {
   "cell_type": "code",
   "execution_count": null,
   "id": "seeing-python",
   "metadata": {},
   "outputs": [],
   "source": [
    "dfcumwave = similar(dfwave); dfcumwave[!,:time]=dfwave[:,:time];\n",
    "for key in agekeys\n",
    "    dfcumwave[!,key]=cumsum(dfwave[!,key]);\n",
    "end \n",
    "p4 = plot(dfcumwave[!,\"time\"],[dfcumwave[:,i] for i=2:10],legend=:topleft,size=(950,300),linewidth=2,\n",
    "          labels=[\"0-9\" \"10-19\" \"20-29\" \"30-39\" \"40-49\" \"50-59\" \"60-69\" \"70-79\" \"80+\"],\n",
    "          title=\"ODH 7-day average\",xlabel=\"date\",ylabel=\"cumulative cases\",margin=5mm,\n",
    "          palette=clr)\n",
    "plot!(xticks=day0:Day(14):dayf)"
   ]
  },
  {
   "cell_type": "markdown",
   "id": "architectural-night",
   "metadata": {},
   "source": [
    "#### CDC vaccination"
   ]
  },
  {
   "cell_type": "code",
   "execution_count": null,
   "id": "given-advancement",
   "metadata": {},
   "outputs": [],
   "source": [
    "dfcdc = CSV.read(\"ODH_Data\\\\VaxCdcJan03_1D.csv\",DataFrame); \n",
    "rename!(dfcdc,\"Date\"=>\"time\",\"19-Oct\"=>\"10-19\"); dfcdc[!,\"0-9\"]=convert(Vector{Float64},dfcdc[!,\"0-9\"]);\n",
    "dfcdc[!,:time]=Date.(dfcdc[!,:time],\"m/d/yyyy\");\n",
    "dfcdc[!,:time].=dfcdc[!,:time].-Day(14); # my parse vax routine added a 14 day delay\n",
    "flag = (dfcdc[!,:time].>=day0).&(dfcdc[!,:time].<=dayf);\n",
    "dfvax = dfcdc[flag,:];\n",
    "println(\"'Raw' CDC Vax_1D data:\")\n",
    "last(dfvax,3)"
   ]
  },
  {
   "cell_type": "code",
   "execution_count": null,
   "id": "junior-reconstruction",
   "metadata": {},
   "outputs": [],
   "source": [
    "for i=2:10\n",
    "    dfvax[!,i] = mymvavg(dfvax[!,i]);\n",
    "end\n",
    "println(\"7-day smooth CDC Vax_1D data:\")\n",
    "first(dfvax,3)"
   ]
  },
  {
   "cell_type": "code",
   "execution_count": null,
   "id": "complicated-recommendation",
   "metadata": {},
   "outputs": [],
   "source": [
    "p5 = plot(dfvax[!,\"time\"],[dfvax[:,i] for i=2:10],legend=:topleft,size=(950,300),linewidth=2,\n",
    "          labels=[\"0-9\" \"10-19\" \"20-29\" \"30-39\" \"40-49\" \"50-59\" \"60-69\" \"70-79\" \"80+\"],\n",
    "          title=\"CDC 1D 7-day average\",xlabel=\"date\",ylabel=\"daily doses\",margin=5mm,\n",
    "          palette=clr);\n",
    "println(\"Does this suggest a λ shape?\")\n",
    "vline!([day0],linewidth=0,labels=\"\")\n",
    "plot!(xticks=day0:Day(14):dayf)"
   ]
  },
  {
   "cell_type": "code",
   "execution_count": null,
   "id": "adequate-anger",
   "metadata": {},
   "outputs": [],
   "source": [
    "dfcumvax = similar(dfvax); dfcumvax[!,:time]=dfvax[:,:time];\n",
    "for key in agekeys\n",
    "    dfcumvax[!,key]=cumsum(dfvax[!,key]);\n",
    "end \n",
    "p6 = plot(dfcumvax[!,\"time\"],[dfcumvax[:,i] for i=2:10],legend=:topleft,size=(950,300),linewidth=2,\n",
    "          labels=[\"0-9\" \"10-19\" \"20-29\" \"30-39\" \"40-49\" \"50-59\" \"60-69\" \"70-79\" \"80+\"],\n",
    "          title=\"ODH 7-day average\",xlabel=\"date\",ylabel=\"cumulative vaccinations\",margin=5mm,\n",
    "          palette=clr,\n",
    "          linestyle=reshape([lnopt[ℓ%5 + 1] for ℓ=2:10],1,9),\n",
    "          marker=reshape([(i-2)÷5==0 ? :none : :utriangle for i=2:10],1,9),\n",
    "          markeralpha=0.2,markersize=3.5)\n",
    "vline!([day0],linewidth=0,labels=\"\")\n",
    "plot!(xticks=day0:Day(14):dayf,size=(figwdth*λplot,fighght*λplot),margin=1mm,\n",
    "     tickfontsize=round(figtickfontsize*λfont),guidefontsize=round(figguidefontsize*λfont),\n",
    "     titlefontsize=round(figtitlefontsize*λfont),legendfontsize=round(figlegendfontsize*λfont))"
   ]
  },
  {
   "cell_type": "markdown",
   "id": "artificial-victorian",
   "metadata": {},
   "source": [
    "### Vaccination hazard"
   ]
  },
  {
   "cell_type": "markdown",
   "id": "answering-scout",
   "metadata": {},
   "source": [
    "We may estimate the hazard through the relation $\\lambda(t)=\\lim_{\\Delta t\\rightarrow 0}\\frac{P\\left(T\\leq t+\\Delta t\\left.\\right| T>t\\right)}{\\Delta t} = -\\frac{d}{dt}\\left[\\ln G(t)\\right]$ where $G(t) = P(T\\geq t)$ is the survival function. We then estimate $\\ln G(t)$, fit with a smooth spline, and compute the appropriate derivative."
   ]
  },
  {
   "cell_type": "code",
   "execution_count": null,
   "id": "thirty-jewel",
   "metadata": {},
   "outputs": [],
   "source": [
    "# Parameters for spline knots\n",
    "Δ = convert(Vector{Float64},LinRange(0.0,length(dfcumvax[!,\"time\"])-1,4));\n",
    "Δ = sort!([Δ;5.0])\n",
    "r = 2; d = 3;"
   ]
  },
  {
   "cell_type": "code",
   "execution_count": null,
   "id": "available-conference",
   "metadata": {},
   "outputs": [],
   "source": [
    "for key in keys(p1[1][1].plotattributes)\n",
    "    print(key,\" \")\n",
    "end"
   ]
  },
  {
   "cell_type": "code",
   "execution_count": null,
   "id": "based-blogger",
   "metadata": {},
   "outputs": [],
   "source": [
    "# Compute the ln survival function in each age group and extract empirical hazard\n",
    "ℓnG = Dict{String,Vector{Float64}}();\n",
    "for key in agekeys\n",
    "    ℓnG[key] = (ohiopop[key] .- dfcumvax[!,key])/ohiopop[key] |> (x->log.(x));\n",
    "end\n",
    "\n",
    "bspl = Dict{String,Bspl1d}();\n",
    "xval = convert(Vector{Float64},0:(length(dfcumvax[!,\"time\"])-1));\n",
    "\n",
    "knots = Knots(Δ,r,d);\n",
    "for key in agekeys\n",
    "    bspl[key] = lsqspl(xval,-ℓnG[key],knots);\n",
    "end\n",
    "\n",
    "vbspl = [bspl[key] for key in agekeys];\n",
    "# Note on p1 can do p1.<tab> etc to explore dropdown\n",
    "p1 = plot(vbspl;npts=26); \n",
    "p1[1][1][:label]=\"0-9\"; p1[1][1][:linestyle]=lnopt[3];\n",
    "p1[1][2][:label]=\"10-19\"; p1[1][2][:linestyle]=lnopt[4];\n",
    "p1[1][3][:label]=\"20-29\"; p1[1][3][:linestyle]=lnopt[5];\n",
    "p1[1][4][:label]=\"30-39\"; p1[1][4][:linestyle]=lnopt[1];\n",
    "p1[1][5][:label]=\"40-49\"; p1[1][5][:linestyle]=lnopt[2];\n",
    "p1[1][6][:label]=\"50-59\"; p1[1][6][:linestyle]=lnopt[3]; p1[1][6][:markershape]=:utriangle; p1[1][6][:markeralpha]=0.2; p1[1][6][:markersize]=3.5;\n",
    "p1[1][7][:label]=\"60-69\"; p1[1][7][:linestyle]=lnopt[4]; p1[1][7][:markershape]=:utriangle; p1[1][7][:markeralpha]=0.2; p1[1][7][:markersize]=3.5;\n",
    "p1[1][8][:label]=\"70-79\"; p1[1][8][:linestyle]=lnopt[5]; p1[1][8][:markershape]=:utriangle; p1[1][8][:markeralpha]=0.2; p1[1][8][:markersize]=3.5;\n",
    "p1[1][9][:label]=\"80+\"; p1[1][9][:linestyle]=lnopt[1]; p1[1][9][:markershape]=:utriangle; p1[1][9][:markeralpha]=0.2; p1[1][9][:markersize]=3.5;\n",
    "for i=1:length(agekeys)\n",
    "    key = agekeys[i];\n",
    "    plot!(xval,-ℓnG[key],seriestype=:scatter,markersize=1.5,labels=\"\",alpha=0.75,color=p1[1][i][:markercolor])\n",
    "end\n",
    "plot!(legend=:topleft,xlabel=\"days after Dec 15\",ylabel=\"-ℓn P(T>=t)\")\n",
    "\n",
    "∂vbspl = [∂(bspl[key]) for key in agekeys];\n",
    "p2 = plot(∂vbspl;npts=26);\n",
    "p2[1][1][:label]=\"0-9\"; p2[1][1][:linestyle]=lnopt[3];\n",
    "p2[1][2][:label]=\"10-19\"; p2[1][2][:linestyle]=lnopt[4];\n",
    "p2[1][3][:label]=\"20-29\"; p2[1][3][:linestyle]=lnopt[5];\n",
    "p2[1][4][:label]=\"30-39\"; p2[1][4][:linestyle]=lnopt[1];\n",
    "p2[1][5][:label]=\"40-49\"; p2[1][5][:linestyle]=lnopt[2];\n",
    "p2[1][6][:label]=\"50-59\"; p2[1][6][:linestyle]=lnopt[3]; p2[1][6][:markershape]=:utriangle; p2[1][6][:markeralpha]=0.2; p2[1][6][:markersize]=3.5;\n",
    "p2[1][7][:label]=\"60-69\"; p2[1][7][:linestyle]=lnopt[4]; p2[1][7][:markershape]=:utriangle; p2[1][7][:markeralpha]=0.2; p2[1][7][:markersize]=3.5;\n",
    "p2[1][8][:label]=\"70-79\"; p2[1][8][:linestyle]=lnopt[5]; p2[1][8][:markershape]=:utriangle; p2[1][8][:markeralpha]=0.2; p2[1][8][:markersize]=3.5;\n",
    "p2[1][9][:label]=\"80+\"; p2[1][9][:linestyle]=lnopt[1]; p2[1][9][:markershape]=:utriangle; p2[1][9][:markeralpha]=0.2; p2[1][9][:markersize]=3.5;\n",
    "plot!(xlabel=\"days after Dec 15th\",ylabel=\"hazard rate λ\",legend=:topleft,ylim=(0.0,0.014));\n",
    "\n",
    "lay = @layout [a b];\n",
    "plot(p1,p2,layout=lay,size=(figwdth*λplot,fighght*λplot),margin=1mm,\n",
    "     tickfontsize=round(figtickfontsize*λfont),guidefontsize=round(figguidefontsize*λfont),\n",
    "     titlefontsize=round(figtitlefontsize*λfont),legendfontsize=round(figlegendfontsize*λfont))"
   ]
  },
  {
   "cell_type": "code",
   "execution_count": null,
   "id": "competent-silver",
   "metadata": {},
   "outputs": [],
   "source": [
    "savefig(\"VaxHaz.pdf\");"
   ]
  },
  {
   "cell_type": "code",
   "execution_count": null,
   "id": "atlantic-mobile",
   "metadata": {},
   "outputs": [],
   "source": [
    "lay = @layout [a;b c]\n",
    "plot!(p6,title=\"\");\n",
    "plot(p6,p1,p2,layout=lay,size=(figwdth*λplot,2*fighght*λplot),margin=1mm,\n",
    "     tickfontsize=round(figtickfontsize*λfont),guidefontsize=round(figguidefontsize*λfont),\n",
    "     titlefontsize=round(figtitlefontsize*λfont),legendfontsize=round(figlegendfontsize*λfont))"
   ]
  },
  {
   "cell_type": "code",
   "execution_count": null,
   "id": "regulation-verse",
   "metadata": {},
   "outputs": [],
   "source": [
    "savefig(\"mst_vax.pdf\");"
   ]
  },
  {
   "cell_type": "code",
   "execution_count": null,
   "id": "desperate-reliance",
   "metadata": {},
   "outputs": [],
   "source": [
    "println(\"Hazard rate bsplines by age group:\")\n",
    "Pλ = Vector{Any}(undef,9);\n",
    "for i=1:9\n",
    "    #println(key);\n",
    "    #println(∂(bspl[key]))\n",
    "    #println(\"\")\n",
    "    \n",
    "    plot(∂(bspl[agekeys[i]]));\n",
    "    Pλ[i] = plot!(xlabel=\"days after Dec 15th\",ylabel=\"λ\",legend=:topleft,ylim=(0.0,0.014));\n",
    "    Pλ[i][1][1][:label]=labels=agekeys[i];\n",
    "end\n",
    "\n",
    "lay = @layout [a b c;d e f;g h i]\n",
    "plot(Pλ[1],Pλ[2],Pλ[3],Pλ[4],Pλ[5],Pλ[6],Pλ[7],Pλ[8],Pλ[9],layout=lay,size=(900,600))"
   ]
  },
  {
   "cell_type": "code",
   "execution_count": null,
   "id": "settled-opportunity",
   "metadata": {},
   "outputs": [],
   "source": [
    "savefig(\"VaxHaz_ages.pdf\");"
   ]
  },
  {
   "cell_type": "markdown",
   "id": "optimum-amplifier",
   "metadata": {},
   "source": [
    "## Equation terms estimated from ODH and CDC data\n",
    "#### $f^s$"
   ]
  },
  {
   "cell_type": "code",
   "execution_count": null,
   "id": "natural-roman",
   "metadata": {},
   "outputs": [],
   "source": [
    "function fˢ(s::Float64)\n",
    "    if (s<0.0)||(s>100.0)\n",
    "        return 0.0\n",
    "    elseif s<70.0\n",
    "        return 0.0125/1.0625\n",
    "    else\n",
    "        return (s-100)*(-0.0125/30)/1.0625\n",
    "    end\n",
    "end;"
   ]
  },
  {
   "cell_type": "code",
   "execution_count": null,
   "id": "robust-zealand",
   "metadata": {},
   "outputs": [],
   "source": [
    "agsz = [ohiopop[key]/totpop for key in [\"0-9\",\"10-19\",\"20-29\",\"30-39\",\"40-49\",\"50-59\",\"60-69\",\"70-79\",\"80+\"]];\n",
    "p7 = plot([convert(Vector,5:10:75);[90]],[agsz[1:end-1]/10;agsz[end]/20] ,seriestype=:bar,ylabel=\"pdf\",xlabel=\"age group\",\n",
    "          xticks=0:10:100,size=(475,200),margin=5mm,labels=\"\",title=\"Ohio age distribution\",\n",
    "          bins=[0:10:80,100],palette=palette(:default),\n",
    "          linecolor=:white,linewidth=0);\n",
    "s=0:0.01:100; y=fˢ.(s);\n",
    "println(\"Except numerically we also multiply by switch bumps at s=0,s=100:\")\n",
    "plot!(s,y,linewidth=2,c=:red,labels=\"fˢ\",size=(figwdth*λplot*.75,fighght*λplot),margin=1mm,\n",
    "     tickfontsize=round(figtickfontsize*λfont),guidefontsize=round(figguidefontsize*λfont),\n",
    "     titlefontsize=round(figtitlefontsize*λfont),legendfontsize=round(10*λfont))\n",
    "vline!([70.0],c=:red,linestyle=:dash,linewidth=1,labels=\"\")\n",
    "plot!(title=\"\")\n",
    "function yfmtr(x::Real)\n",
    "    if x==0\n",
    "        return \"0.0e00\"\n",
    "    end\n",
    "    snew = @sprintf \"%1.1e\" x\n",
    "    return snew\n",
    "end\n",
    "plot!(yformatter=yfmtr)"
   ]
  },
  {
   "cell_type": "code",
   "execution_count": null,
   "id": "conceptual-conversion",
   "metadata": {},
   "outputs": [],
   "source": [
    "savefig(\"fs.pdf\");"
   ]
  },
  {
   "cell_type": "markdown",
   "id": "boring-pressing",
   "metadata": {},
   "source": [
    "#### $y^s$\n",
    "Each age bracket below describes how $y^s$ evolves, within that bracket, as a function of time. A trick is that this measured $y^s$ is both a function of (s,t) and $\\eta$, the reporting factor.\n",
    "1. The first plot (note $\\eta$ dependence) can give time series points that the simulation $y^s$ density could match (eg. at the middle value of the age bracket).\n",
    "2. Second plot shows $y^s$ as a heatmap (note $\\eta$ dependence)."
   ]
  },
  {
   "cell_type": "code",
   "execution_count": null,
   "id": "necessary-complex",
   "metadata": {},
   "outputs": [],
   "source": [
    "η = 1.0; # reporting factor for infection\n",
    "\n",
    "println(\"yˢ normalized to have unit mass at initial time over [0,100] years:\")\n",
    "p8 = plot(dfwave[!,\"time\"],\n",
    "          [(ohiopop[key] .- η*dfcumwave[:,key] - [fill(0.0,getfield(dfvax[1,:time]-dfwave[1,:time],:value));dfcumvax[:,key]])*ηyˢ for key in agekeys],\n",
    "          legend=:topleft,size=(950,300),linewidth=2,\n",
    "          labels=[\"0-9\" \"10-19\" \"20-29\" \"30-39\" \"40-49\" \"50-59\" \"60-69\" \"70-79\" \"80+\"],\n",
    "          title=\"yˢ by age group: η=$η\",xlabel=\"date\",ylabel=\"yˢ\",margin=5mm,\n",
    "          palette=clr)"
   ]
  },
  {
   "cell_type": "code",
   "execution_count": null,
   "id": "interstate-pencil",
   "metadata": {},
   "outputs": [],
   "source": [
    "taxis = 0:1:getfield(dfwave[end,:time]-dfwave[1,:time],:value);\n",
    "saxis = 0:0.1:100;\n",
    "yˢ = Matrix{Float64}(undef,length(taxis),length(saxis));\n",
    "for i=1:length(taxis)\n",
    "    for j=1:length(saxis)\n",
    "        s = saxis[j]\n",
    "        if s<10\n",
    "            key = \"0-9\";\n",
    "        elseif s<20\n",
    "            key = \"10-19\";\n",
    "        elseif s<30\n",
    "            key = \"20-29\";\n",
    "        elseif s<40\n",
    "            key = \"30-39\"\n",
    "        elseif s<50\n",
    "            key = \"40-49\";\n",
    "        elseif s<60\n",
    "            key = \"50-59\";\n",
    "        elseif s<70\n",
    "            key = \"60-69\";\n",
    "        elseif s<80\n",
    "            key = \"70-79\";\n",
    "        else\n",
    "            key = \"80+\";\n",
    "        end\n",
    "        yˢ[i,j] = ( (ohiopop[key] - η*dfcumwave[i,key] - \n",
    "                    [fill(0.0,getfield(dfvax[1,:time]-dfwave[1,:time],:value));dfcumvax[:,key]][i])*ηyˢ );\n",
    "    end\n",
    "end;\n",
    "println(\"ODH/CDC derived susceptibility evolution from $day0 to $dayf:\")\n",
    "p9 = heatmap(saxis,taxis,yˢ*1e6,title=\"yˢ by age group: η=$η \\n (scaled by 1e6)\",size=(400,250),\n",
    "        xlabel=\"ages (years)\",ylabel=\"days after Oct 1\",xguidefontsize=10,yguidefontsize=10,titlefontsize=12,\n",
    "        margin=5mm)"
   ]
  },
  {
   "cell_type": "code",
   "execution_count": null,
   "id": "metropolitan-collapse",
   "metadata": {},
   "outputs": [],
   "source": [
    "# Export yˢ\n",
    "dftemp = DataFrame(\"date\"=>dfwave[!,\"time\"])\n",
    "dftemp[!,\"time\"] = getfield.(dftemp[!,\"date\"].-day0,:value);\n",
    "for key in agekeys\n",
    "    dftemp[!,key] = (ohiopop[key] .- η*dfcumwave[:,key] - [fill(0.0,getfield(dfvax[1,:time]-dfwave[1,:time],:value));dfcumvax[:,key]])*ηyˢ;\n",
    "end\n",
    "CSV.write(\"ODH_ys.csv\",dftemp);"
   ]
  },
  {
   "cell_type": "markdown",
   "id": "determined-anime",
   "metadata": {},
   "source": [
    "#### $y^v$ and $y^i$\n",
    "The ODH and CDC report daily incidence which then is what the implicit boundary data axis value should take for infection and vaccination, but normalized to the Ohio state population."
   ]
  },
  {
   "cell_type": "code",
   "execution_count": null,
   "id": "neither-riverside",
   "metadata": {},
   "outputs": [],
   "source": [
    "p9 = plot(dfwave[:,:time],η*dfwave[:,:daily_confirm]*ηyⁱ,linewidth=2,xlabel=\"date\",ylabel=\"yⁱ(0,t)\",\n",
    "          title=\"ODH incidence (η=$η)\",labels=\"\",xticks=day0:Day(45):dayf,margin=5mm);\n",
    "transform!(dfvax,[\"0-9\",\"10-19\",\"20-29\",\"30-39\",\"40-49\",\"50-59\",\"60-69\",\"70-79\",\"80+\"]=>\n",
    "                 ((x1,x2,x3,x4,x5,x6,x7,x8,x9)->x1+x2+x3+x4+x5+x6+x7+x8+x9)=>\"daily_confirm\");\n",
    "p10 = plot(dfvax[:,:time],dfvax[:,:daily_confirm]*ηyᵛ,linewidth=2,xlabel=\"date\",ylabel=\"yᵛ(0,t)\",\n",
    "          title=\"CDC Vax\",labels=\"\",xticks=day0:Day(21):dayf,margin=5mm);\n",
    "\n",
    "lay = @layout [a b];\n",
    "println(\"ODH and CDC measurements for yⁱ and yᵛ:\")\n",
    "plot(p9,p10,layout=lay,size=(800,200))"
   ]
  },
  {
   "cell_type": "code",
   "execution_count": null,
   "id": "greenhouse-section",
   "metadata": {},
   "outputs": [],
   "source": [
    "# Export yᵛ,yⁱ\n",
    "dftemp = DataFrame(\"date\"=>dfwave[!,\"time\"])\n",
    "dftemp[!,\"time\"] = getfield.(dftemp[!,\"date\"].-day0,:value);\n",
    "dftemp[!,\"yi\"] = η*dfwave[:,:daily_confirm]*ηyⁱ;\n",
    "CSV.write(\"ODH_yi.csv\",dftemp);\n",
    "\n",
    "dftemp = DataFrame(\"date\"=>dfvax[!,\"time\"])\n",
    "dftemp[!,\"time\"] = getfield.(dftemp[!,\"date\"].-day0,:value);\n",
    "dftemp[!,\"yv\"] = dfvax[:,:daily_confirm]*ηyᵛ;\n",
    "CSV.write(\"ODH_yv.csv\",dftemp);"
   ]
  },
  {
   "cell_type": "code",
   "execution_count": null,
   "id": "saving-junior",
   "metadata": {},
   "outputs": [],
   "source": []
  }
 ],
 "metadata": {
  "kernelspec": {
   "display_name": "Julia 1.7.1",
   "language": "julia",
   "name": "julia-1.7"
  },
  "language_info": {
   "file_extension": ".jl",
   "mimetype": "application/julia",
   "name": "julia",
   "version": "1.7.1"
  }
 },
 "nbformat": 4,
 "nbformat_minor": 5
}
