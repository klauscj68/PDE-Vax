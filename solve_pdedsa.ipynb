{
 "cells": [
  {
   "cell_type": "markdown",
   "id": "attempted-coating",
   "metadata": {},
   "source": [
    "# PDE DSA\n",
    "This notebook computes the numerical simulation of the PDE system<br>\n",
    "$\\left(\\partial_t+\\partial_s\\right)y_S = -\\left(\\lambda+\\int^\\infty_0\\beta y_Idu\\right)y_S$,<br>\n",
    "$\\left(\\partial_t+\\partial_s\\right)y_V = -\\left(\\alpha+(1-\\alpha)\\int^\\infty_0\\beta y_Idu\\right)y_V$,<br>\n",
    "$\\left(\\partial_t+\\partial_s\\right)y_V = -\\gamma y_I$.<br>\n",
    "Above the equation coefficients are functions of (t,s) as described in the main paper. Additionally, the system has the boundary data<br>\n",
    "$y_S(0,s) = f_S(s)$ and $y_S(t,0)=0$ for all $t\\geq 0$,<br>\n",
    "$y_V(0,s) = 0$ for all $s\\geq 0$ and $y_V(t,0) = \\int^\\infty_0\\lambda y_S du$,<br>\n",
    "$y_I(0,s) = \\rho f_I(s)$ and $y_I(t,0) = \\int^\\infty_0y_S\\int^\\infty_0\\beta y_Iduds + \\int^\\infty_0\\left(1-\\alpha\\right)y_V\\int^\\infty_0\\beta y_Iduds$.<br><br>\n",
    "The user specifies the parameter values for these equation coefficients in the data() function of the parameters.jl file. Then one runs this notebook.<br>\n",
    "NOTE: One does not edit the data!() function. "
   ]
  },
  {
   "cell_type": "code",
   "execution_count": null,
   "id": "sharp-lounge",
   "metadata": {},
   "outputs": [],
   "source": [
    "include(\"auxilliary.jl\"); include(\"parameters.jl\"); include(\"flow.jl\"); include(\"abcmc.jl\");"
   ]
  },
  {
   "cell_type": "markdown",
   "id": "considered-bookmark",
   "metadata": {},
   "source": [
    "## Simulate the system"
   ]
  },
  {
   "cell_type": "code",
   "execution_count": null,
   "id": "conservative-vietnam",
   "metadata": {},
   "outputs": [],
   "source": [
    "prm = data();\n",
    "ysol,yʳsol=pdesolve(;prm=prm);"
   ]
  },
  {
   "cell_type": "markdown",
   "id": "noticed-citizenship",
   "metadata": {},
   "source": [
    "## Plot equation coefficients\n",
    "Below we plot the equation coefficients used in the simulation according to the parameters.jl file. Legends labeled true or discrete refers respectively to the curve given by its analytic expression versus the approximation obtained by its nodal interpolant spline. One expects these approximations to coincide for suitably fine meshes. The abbreviation cap is only significant when one the two Weibull distributions for either the contact interval $\\beta$ and the recovery period $\\gamma$ have largely disjoint supports with wide separation. Because then one of the hazards is exceedingly large over the domain of simulation, this can lead to numerical instability so it can be convenient to cap the hazard to a maximum value. In the default simulation parameters, one sees that this was not used as the curves overlap.<br>\n",
    "NOTE: The symbol $\\partial$ in legend titles means the equation coefficient's $\\left(\\partial_t+\\partial_s\\right)$ derivative."
   ]
  },
  {
   "cell_type": "code",
   "execution_count": null,
   "id": "handled-newspaper",
   "metadata": {},
   "outputs": [],
   "source": [
    "plot(:α;prm=prm);plot!(size=(600,300))"
   ]
  },
  {
   "cell_type": "code",
   "execution_count": null,
   "id": "surgical-stylus",
   "metadata": {},
   "outputs": [],
   "source": [
    "plot(:β;prm=prm);plot!(size=(600,300))"
   ]
  },
  {
   "cell_type": "code",
   "execution_count": null,
   "id": "coastal-handling",
   "metadata": {},
   "outputs": [],
   "source": [
    "plot(:γ;prm=prm);plot!(size=(600,300))"
   ]
  },
  {
   "cell_type": "code",
   "execution_count": null,
   "id": "loose-settle",
   "metadata": {},
   "outputs": [],
   "source": [
    "plot(:Weibull;prm=prm);plot!(size=(450,300),titlefontsize=12)"
   ]
  },
  {
   "cell_type": "code",
   "execution_count": null,
   "id": "received-rating",
   "metadata": {},
   "outputs": [],
   "source": [
    "plot(:fˢ;prm=prm);plot!(size=(450,300))"
   ]
  },
  {
   "cell_type": "code",
   "execution_count": null,
   "id": "impossible-british",
   "metadata": {},
   "outputs": [],
   "source": [
    "plot(:fⁱ;prm=prm);plot!(size=(450,300))"
   ]
  },
  {
   "cell_type": "markdown",
   "id": "verified-proposal",
   "metadata": {},
   "source": [
    "## Plot the solution"
   ]
  },
  {
   "cell_type": "code",
   "execution_count": null,
   "id": "warming-cruise",
   "metadata": {},
   "outputs": [],
   "source": [
    "plot(ysol);plot!(size=(900,300))"
   ]
  },
  {
   "cell_type": "code",
   "execution_count": null,
   "id": "ahead-activation",
   "metadata": {},
   "outputs": [],
   "source": [
    "plot(ysol,yʳsol;prm=prm);plot!(size=(450,300))"
   ]
  },
  {
   "cell_type": "code",
   "execution_count": null,
   "id": "bright-toyota",
   "metadata": {},
   "outputs": [],
   "source": []
  }
 ],
 "metadata": {
  "kernelspec": {
   "display_name": "Julia 1.7.1",
   "language": "julia",
   "name": "julia-1.7"
  },
  "language_info": {
   "file_extension": ".jl",
   "mimetype": "application/julia",
   "name": "julia",
   "version": "1.7.1"
  }
 },
 "nbformat": 4,
 "nbformat_minor": 5
}
