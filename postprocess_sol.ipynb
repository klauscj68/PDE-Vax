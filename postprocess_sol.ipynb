{
 "cells": [
  {
   "cell_type": "markdown",
   "id": "6ea4b4d9",
   "metadata": {},
   "source": [
    "# Single Solution Analysis of the PDE Vaccination System"
   ]
  },
  {
   "cell_type": "code",
   "execution_count": null,
   "id": "235b9dfa",
   "metadata": {},
   "outputs": [],
   "source": [
    "# Load packages and set plotting settings\n",
    "using CSV, DataFrames, Plots\n",
    "pyplot();\n",
    "\n",
    "# Load the scripts\n",
    "include(\"auxilliary.jl\");include(\"parameters.jl\");include(\"pdesolve.jl\");\n",
    "\n",
    "# Load the data\n",
    "fname = \"Sep06\";\n",
    "df_taxis = CSV.read(fname*\"taxis.csv\",DataFrame,header=false);\n",
    "df_saxis = CSV.read(fname*\"saxis.csv\",DataFrame,header=false);\n",
    "df_Y = CSV.read(fname*\"ysol.csv\",DataFrame,header=false);\n",
    "df_yR = CSV.read(fname*\"yRsol.csv\",DataFrame,header=false);\n",
    "\n",
    "taxis = df_taxis[:,1]; ntdwn = length(taxis); nnd = length(df_saxis[:,1])-1;\n",
    "yˢsaxis = [parse(Float64,df_saxis[i,1]) for i=2:nnd+1]; \n",
    "yᵛsaxis = [parse(Float64,df_saxis[i,2]) for i=2:nnd+1];\n",
    "yⁱsaxis = [parse(Float64,df_saxis[i,3]) for i=2:nnd+1];\n",
    "Y = Matrix{Float64}(undef,3*nnd,ntdwn);\n",
    "for i=1:ntdwn\n",
    "    Y[:,i] = df_Y[:,i];\n",
    "end\n",
    "\n",
    "# Break up into solution components\n",
    "yˢ = Y[1:nnd,:];\n",
    "yᵛ = Y[nnd+1:2*nnd,:];\n",
    "yⁱ = Y[2*nnd+1:3*nnd,:];\n",
    "∫yʳ = df_yR[:,1];"
   ]
  },
  {
   "cell_type": "code",
   "execution_count": null,
   "id": "8e6967de",
   "metadata": {
    "scrolled": false
   },
   "outputs": [],
   "source": [
    "# note each column of heatmap should have same x-value in (x-y axes)\n",
    "#  ie saxis taxis order in heatmap should move over cols then rows\n",
    "p1 = heatmap(yˢsaxis/365,taxis,transpose(yˢ),xlabel=\"ages (yrs)\",ylabel=\"time elapse (days)\",title=\"yˢ\",colorbar=nothing,\n",
    "             titlefont=12,tickfont=8);\n",
    "p2 = heatmap(yᵛsaxis/31,taxis,transpose(yᵛ),xlabel=\"time since vax (months)\",title=\"yᵛ\",colorbar=nothing,yticks=false,\n",
    "             titlefont=12,tickfont=8);\n",
    "p3 = heatmap(yⁱsaxis,taxis,transpose(yⁱ),xlabel=\"time since inf (days)\",title=\"yⁱ\",colorbar=nothing,yticks=false,\n",
    "             titlefont=12,tickfont=8);\n",
    "\n",
    "lay = @layout [a b c];\n",
    "plot(p1,p2,p3,layout=lay,size=(1250,350))\n",
    "savefig(\"ysol_Sep06.pdf\")"
   ]
  },
  {
   "cell_type": "code",
   "execution_count": null,
   "id": "16e49256",
   "metadata": {},
   "outputs": [],
   "source": [
    "# plot ∫∞₀yds for each case\n",
    "∫yˢ = Vector{Float64}(undef,ntdwn); ∫yᵛ = Vector{Float64}(undef,ntdwn); ∫yⁱ = Vector{Float64}(undef,ntdwn);\n",
    "\n",
    "# Compute line ∫'s\n",
    "yˢtlvl = Tℓvℓ(0.,yˢsaxis);\n",
    "yᵛtlvl = Tℓvℓ(0.,yᵛsaxis);\n",
    "yⁱtlvl = Tℓvℓ(0.,yⁱsaxis);\n",
    "for i=1:ntdwn\n",
    "    if i != 1\n",
    "        Tℓvℓ!(taxis[i],yˢtlvl);\n",
    "        Tℓvℓ!(taxis[i],yᵛtlvl);\n",
    "        Tℓvℓ!(taxis[i],yⁱtlvl);\n",
    "    end\n",
    "    ∫yˢ[i] = ∫line(Yℓvℓ(yˢtlvl,yˢ[:,i]));\n",
    "    ∫yᵛ[i] = ∫line(Yℓvℓ(yᵛtlvl,yᵛ[:,i]));\n",
    "    ∫yⁱ[i] = ∫line(Yℓvℓ(yⁱtlvl,yⁱ[:,i]));\n",
    "end\n",
    "\n",
    "# plot them\n",
    "println(\"Aggregated over Age:\")\n",
    "q1 = plot(taxis,[∫yˢ,∫yᵛ,∫yⁱ,∫yʳ,∫yˢ+∫yᵛ+∫yⁱ+∫yʳ],labels=[\"∫ᴸ₀yˢds\" \"∫ᴸ₀yᵛds\" \"∫ᴸ₀yⁱds\" \"∫ᴸyʳds\" \"Σ∫ᴸ₀yds\"],\n",
    "          xlabel=\"time\",ylabel=\"relative population\",title=\"mass conservation\",\n",
    "          titlefont=12,tickfont=8)\n",
    "savefig(\"yagg_Sep06.pdf\")"
   ]
  },
  {
   "cell_type": "code",
   "execution_count": null,
   "id": "acb00bab",
   "metadata": {},
   "outputs": [],
   "source": [
    "dftemp = CSV.read(\"RS_gibbs.csv\",DataFrame,header=false);\n",
    "q2 = plot(dftemp[!,1],linewidth=2,labels=\"\",title=\"MCMC trace\",xticks=false,\n",
    "          titlefont=12,tickfont=8,yticks=false)\n",
    "q3 = histogram(dftemp[!,1],normalize=:pdf,bins=553:562,labels=\"\",title=\"MCMC posterior\",\n",
    "               titlefont=12,tickfont=8,xticks=false,yticks=false);\n",
    "plot(q2,q3)"
   ]
  },
  {
   "cell_type": "code",
   "execution_count": null,
   "id": "740aa86a",
   "metadata": {},
   "outputs": [],
   "source": [
    "lay = @layout [a b c]\n",
    "ptemp = plot(p1,p2,p3,size=(750,375/2),layout=lay);\n",
    "lay = @layout [a{0.5w} b{0.25w} c{0.25w}];\n",
    "qtemp = plot(q1,q2,q3,layout=lay,size=(750,375/2));\n",
    "lay = @layout [a;b]\n",
    "plot(ptemp,qtemp,layout=lay,size=(750,375),dpi=300)"
   ]
  },
  {
   "cell_type": "code",
   "execution_count": null,
   "id": "a4982300",
   "metadata": {},
   "outputs": [],
   "source": [
    "savefig(\"RS_pdevax.pdf\")"
   ]
  },
  {
   "cell_type": "code",
   "execution_count": null,
   "id": "3c156755",
   "metadata": {},
   "outputs": [],
   "source": []
  }
 ],
 "metadata": {
  "kernelspec": {
   "display_name": "Julia 1.7.1",
   "language": "julia",
   "name": "julia-1.7"
  },
  "language_info": {
   "file_extension": ".jl",
   "mimetype": "application/julia",
   "name": "julia",
   "version": "1.7.1"
  }
 },
 "nbformat": 4,
 "nbformat_minor": 5
}
