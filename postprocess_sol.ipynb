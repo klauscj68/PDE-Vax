{
 "cells": [
  {
   "cell_type": "markdown",
   "id": "6ea4b4d9",
   "metadata": {},
   "source": [
    "# Single Solution Analysis of the PDE Vaccination System"
   ]
  },
  {
   "cell_type": "code",
   "execution_count": null,
   "id": "235b9dfa",
   "metadata": {},
   "outputs": [],
   "source": [
    "# Load packages and set plotting settings\n",
    "using CSV, DataFrames, Plots\n",
    "pyplot();\n",
    "\n",
    "# Load the scripts\n",
    "include(\"auxilliary.jl\");include(\"parameters.jl\");include(\"pdesolve.jl\");\n",
    "\n",
    "# Load the data\n",
    "fname = \"\";\n",
    "df_taxis = CSV.read(fname*\"taxis.csv\",DataFrame,header=false);\n",
    "df_saxis = CSV.read(fname*\"saxis.csv\",DataFrame,header=false);\n",
    "df_Y = CSV.read(fname*\"ysol.csv\",DataFrame,header=false);\n",
    "\n",
    "taxis = df_taxis[:,1]; ntdwn = length(taxis);\n",
    "saxis = df_saxis[:,1]; nnd = length(saxis);\n",
    "Y = Matrix{Float64}(undef,3*nnd,ntdwn);\n",
    "for i=1:ntdwn\n",
    "    Y[:,i] = df_Y[:,i];\n",
    "end\n",
    "\n",
    "# Break up into solution components\n",
    "yˢ = Y[1:nnd,:];\n",
    "yᵛ = Y[nnd+1:2*nnd,:];\n",
    "yⁱ = Y[2*nnd+1:3*nnd,:];\n",
    "\n",
    "# Build (s,t) rectangular coordinates\n",
    "t = repeat(reshape(taxis,(1,ntdwn)),outer=(nnd,1));\n",
    "s = repeat(saxis,outer=(1,ntdwn));"
   ]
  },
  {
   "cell_type": "code",
   "execution_count": null,
   "id": "8e6967de",
   "metadata": {},
   "outputs": [],
   "source": [
    "# note each column of heatmap should have same x-value in (x-y axes)\n",
    "#  ie saxis taxis order in heatmap should move over cols then rows\n",
    "p1 = heatmap(saxis,taxis,transpose(yˢ),xlabel=\"ages\",ylabel=\"time elapse\",title=\"yˢ\");\n",
    "p2 = heatmap(saxis,taxis,transpose(yᵛ),xlabel=\"ages\",title=\"yᵛ\");\n",
    "p3 = heatmap(saxis,taxis,transpose(yⁱ),xlabel=\"ages\",title=\"yⁱ\");\n",
    "\n",
    "lay = @layout [a b c];\n",
    "plot(p1,p2,p3,layout=lay,size=(1250,350))\n",
    "savefig(\"ysol.pdf\")"
   ]
  },
  {
   "cell_type": "code",
   "execution_count": null,
   "id": "16e49256",
   "metadata": {},
   "outputs": [],
   "source": []
  }
 ],
 "metadata": {
  "kernelspec": {
   "display_name": "Julia 1.6.0",
   "language": "julia",
   "name": "julia-1.6"
  },
  "language_info": {
   "file_extension": ".jl",
   "mimetype": "application/julia",
   "name": "julia",
   "version": "1.6.0"
  }
 },
 "nbformat": 4,
 "nbformat_minor": 5
}
