{
 "cells": [
  {
   "cell_type": "markdown",
   "id": "insured-diploma",
   "metadata": {},
   "source": [
    "# Analyze the ABC output"
   ]
  },
  {
   "cell_type": "code",
   "execution_count": null,
   "id": "chronic-bride",
   "metadata": {},
   "outputs": [],
   "source": [
    "using CSV,DataFrames,Plots,Statistics,Distributions,Measures\n",
    "gr();\n",
    "\n",
    "include(\"auxilliary.jl\"); include(\"parameters.jl\"); include(\"flow.jl\"); include(\"abcmc.jl\");\n",
    "ENV[\"COLUMNS\"]=200;"
   ]
  },
  {
   "cell_type": "markdown",
   "id": "variable-contrary",
   "metadata": {},
   "source": [
    "## Inputs"
   ]
  },
  {
   "cell_type": "code",
   "execution_count": null,
   "id": "unnecessary-reduction",
   "metadata": {},
   "outputs": [],
   "source": [
    "# Dataframe of abc samples\n",
    "frt = 1; lst = 10;\n",
    "df = CSV.read(\"ABCsmp$frt.csv\",DataFrame,header=false);\n",
    "for id=frt+1:lst\n",
    "    dftemp = CSV.read(\"ABCsmp$id.csv\",DataFrame,header=false);\n",
    "    df = hcat(df,dftemp[:,2:end],makeunique=true);\n",
    "end\n",
    "\n",
    "# Dataframe of trajectories\n",
    "dftrj = CSV.read(\"ABCtrj$frt.csv\",DataFrame,header=false);\n",
    "for id=frt+1:lst\n",
    "    dftemp = CSV.read(\"ABCtrj$id.csv\",DataFrame,header=false);\n",
    "    dftrj = hcat(dftrj,dftemp[:,2:end],makeunique=true);\n",
    "end\n",
    "\n",
    "# threshold for ℓerr cutoff, given as a top quantile (eg 0.05 is top 5%)\n",
    "qℓ = 0.1;"
   ]
  },
  {
   "cell_type": "markdown",
   "id": "vocal-burden",
   "metadata": {},
   "source": [
    "## Plot formatting\n",
    "For gr plot scaling was seeing<br>\n",
    "10.42in = 750px* r =><br>\n",
    "r = 10.42in/750px=><br>\n",
    "7.5in = 750px* r *lambda = 750px*(10.42in/750px)*lambda => 7.5in/10.42in=lambda<br><br>\n",
    "\n",
    "Also seeing fontsize 12 gets mapped to fontsize 18"
   ]
  },
  {
   "cell_type": "code",
   "execution_count": null,
   "id": "legislative-rough",
   "metadata": {},
   "outputs": [],
   "source": [
    "# Plot formatting\n",
    "#  Finding that to get right output dimensions and font sizes for gr have to manually\n",
    "#  compute scaling factors based on an observed print output\n",
    "λplot = 100*7.5/10.42; λfont = 12/18; #scaling factors\n",
    "\n",
    "# Final output two panel figure dimensions\n",
    "figwdth = 7.45; fighght = 3.25; # inches\n",
    "\n",
    "# Final output figure fontsizes\n",
    "figtickfontsize = 12; figguidefontsize = 14; figtitlefontsize = 16;"
   ]
  },
  {
   "cell_type": "code",
   "execution_count": null,
   "id": "right-commonwealth",
   "metadata": {},
   "outputs": [],
   "source": [
    "lnopt = [:solid, :dash, :dot, :dashdot, :dashdotdot];\n",
    "mkopt = [:none, :auto, :circle, :rect, :star5, :diamond, :hexagon, :cross, \n",
    "         :xcross, :utriangle, :dtriangle, :rtriangle, :ltriangle, :pentagon, \n",
    "         :heptagon, :octagon, :star4, :star6, :star7, :star8, :vline, :hline, \n",
    "         :+, :x]; "
   ]
  },
  {
   "cell_type": "markdown",
   "id": "common-revolution",
   "metadata": {},
   "source": [
    "## Extract samples"
   ]
  },
  {
   "cell_type": "code",
   "execution_count": null,
   "id": "valuable-independence",
   "metadata": {},
   "outputs": [],
   "source": [
    "ncols = ncol(df)-1; nℓcols = qℓ*ncols;\n",
    "println(\"The total number of abc sampling before conditioning: $ncols\")\n",
    "println(\"The total number of abc sampling after conditioning with top $qℓ quantile: $nℓcols\")"
   ]
  },
  {
   "cell_type": "code",
   "execution_count": null,
   "id": "motivated-hearing",
   "metadata": {},
   "outputs": [],
   "source": [
    "prmrg,prmvary=abcdata();prmvary[:ℓerr]=true;prmvary[:βθ]=true;\n",
    "println(\"Varied parameters:\")\n",
    "for key in keys(prmvary)\n",
    "    if prmvary[key]\n",
    "        println(key)\n",
    "    end\n",
    "end"
   ]
  },
  {
   "cell_type": "code",
   "execution_count": null,
   "id": "narrow-slide",
   "metadata": {},
   "outputs": [],
   "source": [
    "# Create dictionary of row position of key parameters;\n",
    "mykeys = [key for key in keys(prmvary)]; mykeys=vcat(mykeys,[:ℓerr,:βθ])\n",
    "pnt=Dict{Symbol,Int64}()\n",
    "for key in mykeys\n",
    "    pos = 1;\n",
    "    while df[pos,1]!=string(key)\n",
    "        pos+=1;\n",
    "    end\n",
    "    pnt[key]=pos;\n",
    "end;"
   ]
  },
  {
   "cell_type": "code",
   "execution_count": null,
   "id": "automated-green",
   "metadata": {},
   "outputs": [],
   "source": [
    "# Truncate down to trajectories that didn't return NaN\n",
    "function Base.isnan(s::Union{Symbol,AbstractString})\n",
    "    return false\n",
    "end\n",
    "\n",
    "dfnan = .!(isnan.(df[pnt[:ℓerr]:pnt[:ℓerr],:])); flagnan = [dfnan[1,i] for i=1:ncol(dfnan)];\n",
    "df = df[:,flagnan]; dftrj = dftrj[:,flagnan];\n",
    "print(\"The number of NaN's is \"); println(sum(.!(flagnan)))"
   ]
  },
  {
   "cell_type": "code",
   "execution_count": null,
   "id": "located-athletics",
   "metadata": {},
   "outputs": [],
   "source": [
    "# Extract marginal values conditioned on threshold\n",
    "marginals = Dict{Symbol,Vector{Float64}}();\n",
    "for key in keys(prmvary)\n",
    "    if prmvary[key]\n",
    "        marginals[key] = [v for v in df[pnt[key],2:end]];\n",
    "    end\n",
    "end\n",
    "flag = marginals[:ℓerr] .<= quantile(marginals[:ℓerr],qℓ);\n",
    "for key in keys(marginals)\n",
    "    marginals[key] = marginals[key][flag]\n",
    "end;\n",
    "\n",
    "# Extract trajectories conditioned on threshold\n",
    "dftrjabc = dftrj[:,2:end];\n",
    "dftrjabc = dftrjabc[:,flag];\n",
    "dftrjabc = hcat(DataFrame(\"day\"=>convert(Vector,0:(nrow(dftrjabc)-1))),dftrjabc);\n",
    "last(dftrjabc,7)"
   ]
  },
  {
   "cell_type": "markdown",
   "id": "otherwise-reservoir",
   "metadata": {},
   "source": [
    "## Plot marginal distributions"
   ]
  },
  {
   "cell_type": "code",
   "execution_count": null,
   "id": "active-arrow",
   "metadata": {},
   "outputs": [],
   "source": [
    "histogram(marginals[:ℓerr],title=\"ℓerr\",labels=\"\",size=(500,250),normalize=:pdf)"
   ]
  },
  {
   "cell_type": "code",
   "execution_count": null,
   "id": "interstate-leadership",
   "metadata": {},
   "outputs": [],
   "source": [
    "histogram(marginals[:ρ],title=\"ρ\",labels=\"\",size=(500,250),normalize=:pdf)"
   ]
  },
  {
   "cell_type": "code",
   "execution_count": null,
   "id": "sitting-mineral",
   "metadata": {},
   "outputs": [],
   "source": [
    "histogram(marginals[:αeff],title=\"αeff\",labels=\"\",size=(500,250),normalize=:pdf)"
   ]
  },
  {
   "cell_type": "code",
   "execution_count": null,
   "id": "owned-emission",
   "metadata": {},
   "outputs": [],
   "source": [
    "histogram(marginals[:βα],title=\"βα\",labels=\"\",size=(500,250),normalize=:pdf)"
   ]
  },
  {
   "cell_type": "code",
   "execution_count": null,
   "id": "closed-pantyhose",
   "metadata": {},
   "outputs": [],
   "source": [
    "histogram(marginals[:γα],title=\"γα\",labels=\"\",size=(500,250),normalize=:pdf)"
   ]
  },
  {
   "cell_type": "code",
   "execution_count": null,
   "id": "differential-expense",
   "metadata": {},
   "outputs": [],
   "source": [
    "histogram(marginals[:γθ],title=\"γθ\",labels=\"\",size=(500,250),normalize=:pdf)"
   ]
  },
  {
   "cell_type": "code",
   "execution_count": null,
   "id": "unavailable-vampire",
   "metadata": {},
   "outputs": [],
   "source": [
    "histogram2d(marginals[:γθ],marginals[:γα],labels=\"\",xlabel=\"γθ\",ylabel=\"γα\",size=(500,250))"
   ]
  },
  {
   "cell_type": "code",
   "execution_count": null,
   "id": "grand-peeing",
   "metadata": {},
   "outputs": [],
   "source": [
    "βμ = [mean(Weibull(marginals[:βα][i],marginals[:βθ][i])) for i=1:length(marginals[:βα])];\n",
    "γμ = [mean(Weibull(marginals[:γα][i],marginals[:γθ][i])) for i=1:length(marginals[:γα])];\n",
    "\n",
    "βσ = [std(Weibull(marginals[:βα][i],marginals[:βθ][i])) for i=1:length(marginals[:βα])];\n",
    "γσ = [std(Weibull(marginals[:γα][i],marginals[:γθ][i])) for i=1:length(marginals[:γα])];\n",
    "\n",
    "histogram2d(βμ,γμ,xlabel=\"Length of infectious period mean\",ylabel=\"Length of recovery period mean\",size=(500,325))"
   ]
  },
  {
   "cell_type": "code",
   "execution_count": null,
   "id": "knowing-simpson",
   "metadata": {},
   "outputs": [],
   "source": [
    "pltβγμ = histogram(βμ,normalize=:pdf,labels=\"contact interval β\",linecolor=:white,alpha=0.65,linewidth=0);\n",
    "histogram!(γμ,normalize=:pdf,labels=\"infectious period γ\",linecolor=:white,alpha=0.65,linewidth=0)\n",
    "plot!(xlabel=\"mean\",ylabel=\"pdf\",\n",
    "      size=(figwdth/2*λplot,fighght*λplot),\n",
    "      tickfontsize=round(figtickfontsize*λfont),guidefontsize=round(figguidefontsize*λfont),\n",
    "      titlefontsize=round(figtitlefontsize*λfont))"
   ]
  },
  {
   "cell_type": "code",
   "execution_count": null,
   "id": "known-sense",
   "metadata": {},
   "outputs": [],
   "source": [
    "savefig(\"postmean.pdf\")"
   ]
  },
  {
   "cell_type": "code",
   "execution_count": null,
   "id": "arctic-organ",
   "metadata": {},
   "outputs": [],
   "source": [
    "# Master figure for all posteriors\n",
    "# Ex of how to use blank plots to center and vary number of subplots in a plot\n",
    "#pltblank = plot(legend=false,grid=false,foreground_color_subplot=:white);\n",
    "#lay = @layout [_{0.165w} a{0.335w} b{0.335w} _{0.165w};c d e];\n",
    "#plot(pltblank,plt1,plt2,pltblank,plt3,plt4,plt5,layout = lay,size=(figwdth*λplot,2*fighght*λplot))\n",
    "\n",
    "plt1 = histogram(marginals[:ρ],title=\"ρ\",labels=\"\",size=(500,250),normalize=:pdf,ylabel=\"pdf\",xlabel=\"\",\n",
    "                 xticks=0.0:0.025:0.05,linecolor=:white,linewidth=0)\n",
    "plt2 = histogram(βμ,title=\"βμ\",labels=\"\",size=(500,250),normalize=:pdf,xlabel=\"\",\n",
    "                 xticks=12.4:0.3:13.0,linecolor=:white,linewidth=0)\n",
    "plt3 = histogram(βσ,title=\"βσ\",labels=\"\",size=(500,250),normalize=:pdf,xlabel=\"\",linecolor=:white,linewidth=0)\n",
    "plt4 = histogram(marginals[:αeff],title=\"αeff\",labels=\"\",size=(500,250),normalize=:pdf,ylabel=\"pdf\",xlabel=\"value\",\n",
    "                 linecolor=:white,linewidth=0)\n",
    "plt5 = histogram(γμ,title=\"γμ\",labels=\"\",size=(500,250),normalize=:pdf,xlabel=\"value\",\n",
    "                 xticks=12.5:1.0:15.0,linecolor=:white,linewidth=0)\n",
    "plt6 = histogram(γσ,title=\"γσ\",labels=\"\",size=(500,250),normalize=:pdf,xlabel=\"value\",\n",
    "                 xticks=1.8:0.4:3.0,linecolor=:white,linewidth=0)\n",
    "\n",
    "plot!(plt1,tickfontsize=round(figtickfontsize*λfont),guidefontsize=round(figguidefontsize*λfont),\n",
    "           titlefontsize=round(figtitlefontsize*λfont))\n",
    "plot!(plt2,tickfontsize=round(figtickfontsize*λfont),guidefontsize=round(figguidefontsize*λfont),\n",
    "           titlefontsize=round(figtitlefontsize*λfont))\n",
    "plot!(plt3,tickfontsize=round(figtickfontsize*λfont),guidefontsize=round(figguidefontsize*λfont),\n",
    "           titlefontsize=round(figtitlefontsize*λfont))\n",
    "plot!(plt4,tickfontsize=round(figtickfontsize*λfont),guidefontsize=round(figguidefontsize*λfont),\n",
    "           titlefontsize=round(figtitlefontsize*λfont))\n",
    "plot!(plt5,tickfontsize=round(figtickfontsize*λfont),guidefontsize=round(figguidefontsize*λfont),\n",
    "           titlefontsize=round(figtitlefontsize*λfont))\n",
    "plot!(plt6,tickfontsize=round(figtickfontsize*λfont),guidefontsize=round(figguidefontsize*λfont),\n",
    "           titlefontsize=round(figtitlefontsize*λfont))\n",
    "lay = @layout [a b c;d e f]\n",
    "plot(plt1,plt2,plt3,plt4,plt5,plt6,layout = lay,size=(figwdth*λplot,2*fighght*λplot))"
   ]
  },
  {
   "cell_type": "code",
   "execution_count": null,
   "id": "meaning-ecology",
   "metadata": {},
   "outputs": [],
   "source": [
    "savefig(\"postprm.pdf\");"
   ]
  },
  {
   "cell_type": "code",
   "execution_count": null,
   "id": "coastal-listing",
   "metadata": {},
   "outputs": [],
   "source": [
    "plot([mean(Weibull(marginals[:βα][i],marginals[:βθ][i])) for i=1:length(marginals[:βα])],\n",
    "     [std(Weibull(marginals[:βα][i],marginals[:βθ][i])) for i=1:length(marginals[:βα])],\n",
    "     seriestype=:scatter,labels=\"contact interval β\")\n",
    "plot!([mean(Weibull(marginals[:γα][i],marginals[:γθ][i])) for i=1:length(marginals[:γα])],\n",
    "     [std(Weibull(marginals[:γα][i],marginals[:γθ][i])) for i=1:length(marginals[:γα])],\n",
    "     seriestype=:scatter,labels=\"infectiousness period γ\")\n",
    "plot!(xlabel=\"mean\",ylabel=\"standard deviation\",size=(500,325))"
   ]
  },
  {
   "cell_type": "markdown",
   "id": "featured-manufacturer",
   "metadata": {},
   "source": [
    "As a reminder on why there is a submanifold structure on the $\\beta$ distribution: The boundary conditions are <br>\n",
    "$y_I(0,s) = \\rho f_I(s)$ and $y_I(t,0) = \\left(\\int^\\infty_0 (y_S(t,u) + (1-\\alpha(t,u))y_V(t,u))du\\right)\\left(\\int^\\infty_0\\beta(u)y_I(t,u)du\\right)$.<br>\n",
    "If you enforce continity at $(0,0)$ between these two boundary conditions this becomes<br>\n",
    "$\\rho f_I(0) = y_I(0,s=0) = y_I(t=0,0) = \\left(\\int^\\infty_0 f_S(u)du\\right)\\left(\\int^\\infty_0\\beta(u)\\rho f_I(u)du\\right)$.<br>\n",
    "If we now simplify, substitute in that $\\beta(s) = \\frac{\\alpha}{\\theta}\\left(\\frac{s}{\\theta}\\right)^{\\alpha-1}$ and let $\\eta=\\left(\\int^\\infty_0 f_S(u)du\\right)$ notate a constant, we obtain <br>\n",
    "$f_I(0) = \\frac{\\eta\\alpha}{\\theta^\\alpha}\\left(\\int^\\infty_0 s^{\\alpha-1}f_I(s)ds\\right)$.<br>\n",
    "From the above, it is clear that for the Weibull distribution and after a choice of $f_I$, the compatibility condition is freely parameterized by $\\alpha$ using the above relation to define $\\theta(\\alpha)$. "
   ]
  },
  {
   "cell_type": "markdown",
   "id": "understanding-weekend",
   "metadata": {},
   "source": [
    "#### $R_0$ posterior distributions\n",
    "The $R_0$ value is given by $R_0 = \\int^\\infty_0 S_\\gamma(t)\\beta(t)dt$, where $S_\\gamma(t)$ is the survival function of $\\gamma$ and $\\beta$ is the contact interval hazard. For a Weibull distribution, Wikipedia says the survival function is $S_\\gamma(t) = e^{-(t/\\gamma_\\theta)^{\\gamma_\\alpha}}$. Combining with the definition of $\\beta$ we obtain <br>\n",
    "$R_0 = \\int^\\infty_0 e^{-(t/\\gamma_\\theta)^{\\gamma_\\alpha}}\\frac{\\beta_\\alpha}{\\beta_\\theta}\\left(\\frac{t}{\\beta_\\theta}\\right)^{\\beta_\\alpha-1}dt.$ <br>\n",
    "If we now do a u-substition: $u = (t/\\gamma_\\theta)^{\\gamma_\\alpha}\\Rightarrow t=\\gamma_\\theta u^{1/\\gamma_\\alpha}$ and $dt = \\frac{\\gamma_\\theta}{\\gamma_\\alpha} u^{1/\\gamma_\\alpha-1}du$. Combining we have <br>\n",
    "$R_0 = \\int^\\infty_0 e^{-u}\\frac{\\beta_\\alpha}{\\beta_\\theta}\\left(\\frac{\\gamma_\\theta u^{1/\\gamma_\\alpha}}{\\beta_\\theta}\\right)^{\\beta_\\alpha-1}\\frac{\\gamma_\\theta}{\\gamma_\\alpha}u^{1/\\gamma_\\alpha-1}du = \\frac{\\beta_\\alpha{\\gamma_\\theta}^{\\beta_\\alpha}}{{\\beta_\\theta}^{\\beta_\\alpha}\\gamma_\\alpha}\\int^\\infty_0 e^{-u}u^{\\beta_\\alpha/\\gamma_\\alpha - 1}du$.<br>\n",
    "When does $e^{-s}s^r = e^{-s/2}$ on $\\left[0,\\infty\\right)$? Iff $e^{-s/2}s^r=1$ iff $s^r=e^{s/2}$. You can know that if $s>2r$ and the exponential is above the poly, then it will forever thereafter be above. That's because $\\partial_s\\left(e^{s/2}\\right) = y_1/2$ where $\\partial_s\\left(s^r\\right)=ry_2/s.$ And so $y_1\\geq y_2\\Rightarrow y_1/2\\geq ry_1/s\\geq ry_2/s$, which means the derivative will always occur with faster rate. <br> <br>\n",
    "Thus, you can grow a box until you reach this condition, then bound that tail by $e^{-s/2}$ by an exact integral for an error estimate, while using a numerical integral to compute the first part."
   ]
  },
  {
   "cell_type": "code",
   "execution_count": null,
   "id": "mounted-adelaide",
   "metadata": {},
   "outputs": [],
   "source": [
    "function R₀(β_α::Real,β_θ::Real,γ_α::Real,γ_θ::Real;tol::Real=1e-6,npts::Integer=10001)\n",
    "   # Find L₀ where tail of integral is at most tol when the tail is bounded by exp(-s/2)\n",
    "   # You want I<tol*β_θ^β_α*γ_α/β_α/γ_θ^β_α\n",
    "   # d/dx F = exp(-s/2) for F = -2 exp(-s/2); so I = 2 exp(-s/2)\n",
    "    L₀ = -2*log(0.5*tol*β_θ^β_α*γ_α/β_α/γ_θ^β_α);\n",
    "    L₀ = L₀>1 ? L₀ : 1.0;\n",
    "    \n",
    "    # Find where in [⋅>2r], the exponential is above the poly and may dominate with exp(-s/2)\n",
    "    r = β_α/γ_α-1;\n",
    "    L₀ = L₀ > 2*r ? L₀ : 2*r;\n",
    "    while r*log(L₀) > L₀/2\n",
    "        L₀ *= 2;\n",
    "    end\n",
    "    \n",
    "    # Compute definite integral on ∫^L₀_0 by trapezoidal rule\n",
    "    xs = LinRange(0,L₀,npts); Δ = xs[2];\n",
    "    ys = β_α*γ_θ^β_α/β_θ^β_α/γ_α*exp.(-xs).*(xs.^r);\n",
    "    \n",
    "    val = [Δ*(ys[i]+ys[i-1])/2 for i=2:length(xs)];\n",
    "    \n",
    "    return sum(val)\n",
    "end;"
   ]
  },
  {
   "cell_type": "code",
   "execution_count": null,
   "id": "outstanding-monitoring",
   "metadata": {},
   "outputs": [],
   "source": [
    "marginals[:R₀] = [R₀(marginals[:βα][i],marginals[:βθ][i],\n",
    "                     marginals[:γα][i],marginals[:γθ][i]) for i=1:length(marginals[:βα])];\n",
    "pltR₀ = histogram(marginals[:R₀],normalize=:pdf,labels=\"\",title=\"R₀\",size=(450,250),bins=15,linecolor=:white,linewidth=0)\n",
    "plot!(xlabel=\"value\",ylabel=\"pdf\",\n",
    "      size=(figwdth/2*λplot,fighght*λplot),\n",
    "      tickfontsize=round(figtickfontsize*λfont),guidefontsize=round(figguidefontsize*λfont),\n",
    "      titlefontsize=round(figtitlefontsize*λfont))"
   ]
  },
  {
   "cell_type": "code",
   "execution_count": null,
   "id": "excess-ballot",
   "metadata": {},
   "outputs": [],
   "source": [
    "savefig(\"postR0.pdf\")"
   ]
  },
  {
   "cell_type": "code",
   "execution_count": null,
   "id": "specialized-tackle",
   "metadata": {},
   "outputs": [],
   "source": [
    "lay = @layout [a b];\n",
    "plot!(pltR₀,ylabel=\"\");\n",
    "plot(pltβγμ,pltR₀,layout=lay,\n",
    "      size=(figwdth*λplot,fighght*λplot),\n",
    "      tickfontsize=round(figtickfontsize*λfont),guidefontsize=round(figguidefontsize*λfont),\n",
    "      titlefontsize=round(figtitlefontsize*λfont))"
   ]
  },
  {
   "cell_type": "code",
   "execution_count": null,
   "id": "middle-caribbean",
   "metadata": {},
   "outputs": [],
   "source": [
    "savefig(\"mst_meanR0.pdf\");"
   ]
  },
  {
   "cell_type": "markdown",
   "id": "logical-abraham",
   "metadata": {},
   "source": [
    "## Pearson correlation coefficients"
   ]
  },
  {
   "cell_type": "code",
   "execution_count": null,
   "id": "absent-aquarium",
   "metadata": {},
   "outputs": [],
   "source": [
    "μs = Dict{Symbol,Float64}(); σs = Dict{Symbol,Float64}();\n",
    "for key in keys(marginals)\n",
    "    μs[key] = sum(marginals[key])/length(marginals[key]);\n",
    "    σs[key] = √( sum((marginals[key].-μs[key]).^2)/length(marginals[key]) );\n",
    "end\n",
    "n=length(keys(marginals));\n",
    "PC = Matrix{Float64}(undef,n,n); id₁=0;\n",
    "for key₁ in keys(marginals)\n",
    "    id₁+=1;\n",
    "    id₂=0;\n",
    "    for key₂ in keys(marginals)\n",
    "        id₂+=1;\n",
    "        PC[id₁,id₂] = sum( (marginals[key₁].-μs[key₁]).*(marginals[key₂].-μs[key₂]) )/(σs[key₁]*σs[key₂]);\n",
    "        PC[id₁,id₂] *= 1/length(marginals[key₁]);\n",
    "    end\n",
    "end;"
   ]
  },
  {
   "cell_type": "code",
   "execution_count": null,
   "id": "compound-poison",
   "metadata": {},
   "outputs": [],
   "source": [
    "dfpc = DataFrame(\"prm\"=>[key for key in keys(marginals)]);\n",
    "pos = 0;\n",
    "for key in keys(marginals)\n",
    "    pos += 1;\n",
    "    dfpc[!,string(key)] = convert(Vector,PC[:,pos]);\n",
    "end\n",
    "println(\"Pearson correlation coefficients (remember βθ is not free):\")\n",
    "dfpc"
   ]
  },
  {
   "cell_type": "markdown",
   "id": "imperial-fight",
   "metadata": {},
   "source": [
    "# Analyze Best Fit"
   ]
  },
  {
   "cell_type": "markdown",
   "id": "satisfied-writing",
   "metadata": {},
   "source": [
    "## Inputs"
   ]
  },
  {
   "cell_type": "code",
   "execution_count": null,
   "id": "forward-payment",
   "metadata": {},
   "outputs": [],
   "source": [
    "nnd = 2500;; nndsmp = 2500;\n",
    "atol = 1e-5;\n",
    "rtol = 1e-3; "
   ]
  },
  {
   "cell_type": "markdown",
   "id": "alternative-glory",
   "metadata": {},
   "source": [
    "## Simulate the best fit"
   ]
  },
  {
   "cell_type": "code",
   "execution_count": null,
   "id": "banned-luxury",
   "metadata": {},
   "outputs": [],
   "source": [
    "df[!,1] = Symbol.(df[!,1])\n",
    "\n",
    "# Find best fit\n",
    "idℓerr = 1;\n",
    "while df[idℓerr,1]!=:ℓerr\n",
    "    idℓerr+=1;\n",
    "end\n",
    "\n",
    "ℓs = [df[idℓerr,k] for k=2:ncol(df)]\n",
    "ℓbf = minimum(ℓs);\n",
    "pos = findfirst(ℓs.==ℓbf) + 1;"
   ]
  },
  {
   "cell_type": "code",
   "execution_count": null,
   "id": "capable-lithuania",
   "metadata": {},
   "outputs": [],
   "source": [
    "# Prepare the data vector\n",
    "vkeys = df[:,1]; prm,_=rdprm(df[:,pos],vkeys);\n",
    "\n",
    "# Set the input discretizations\n",
    "prm[:nnd][1] = nnd; prm[:atol][1] = atol; prm[:rtol][1] = rtol; prm[:nndsmp][1] = nndsmp;\n",
    "data!(prm);\n",
    "\n",
    "println(\"The best fit parameters are \",prm)"
   ]
  },
  {
   "cell_type": "code",
   "execution_count": null,
   "id": "english-simpson",
   "metadata": {},
   "outputs": [],
   "source": [
    "# Run the simulation\n",
    "ysol,yʳsol = pdesolve(;prm=prm);"
   ]
  },
  {
   "cell_type": "markdown",
   "id": "operational-afternoon",
   "metadata": {},
   "source": [
    "## Plot equation coefficients"
   ]
  },
  {
   "cell_type": "code",
   "execution_count": null,
   "id": "defensive-application",
   "metadata": {},
   "outputs": [],
   "source": [
    "plot(:α;prm=prm)"
   ]
  },
  {
   "cell_type": "code",
   "execution_count": null,
   "id": "generic-investor",
   "metadata": {},
   "outputs": [],
   "source": [
    "plot(:β;prm=prm)"
   ]
  },
  {
   "cell_type": "code",
   "execution_count": null,
   "id": "latin-caution",
   "metadata": {},
   "outputs": [],
   "source": [
    "plot(:γ;prm=prm)"
   ]
  },
  {
   "cell_type": "code",
   "execution_count": null,
   "id": "conservative-recipient",
   "metadata": {},
   "outputs": [],
   "source": [
    "plot(:Weibull;prm=prm)"
   ]
  },
  {
   "cell_type": "code",
   "execution_count": null,
   "id": "difficult-shakespeare",
   "metadata": {},
   "outputs": [],
   "source": [
    "plot(:fˢ;prm=prm)"
   ]
  },
  {
   "cell_type": "code",
   "execution_count": null,
   "id": "southwest-honduras",
   "metadata": {},
   "outputs": [],
   "source": [
    "plot(:fⁱ;prm=prm)"
   ]
  },
  {
   "cell_type": "markdown",
   "id": "contemporary-regular",
   "metadata": {},
   "source": [
    "## Plot best fit solution"
   ]
  },
  {
   "cell_type": "code",
   "execution_count": null,
   "id": "ongoing-brick",
   "metadata": {},
   "outputs": [],
   "source": [
    "plot(ysol)"
   ]
  },
  {
   "cell_type": "code",
   "execution_count": null,
   "id": "popular-influence",
   "metadata": {},
   "outputs": [],
   "source": [
    "plot(ysol,yʳsol;prm=prm)"
   ]
  },
  {
   "cell_type": "code",
   "execution_count": null,
   "id": "enclosed-facing",
   "metadata": {},
   "outputs": [],
   "source": [
    "plotbd(ysol;prm=prm)"
   ]
  },
  {
   "cell_type": "markdown",
   "id": "employed-sperm",
   "metadata": {},
   "source": [
    "### Plot errors with ODH"
   ]
  },
  {
   "cell_type": "code",
   "execution_count": null,
   "id": "literary-quest",
   "metadata": {},
   "outputs": [],
   "source": [
    "df_yⁱ = CSV.read(\"ODH_snipdaily.csv\",DataFrame);\n",
    "first(df_yⁱ,3)"
   ]
  },
  {
   "cell_type": "markdown",
   "id": "liberal-maria",
   "metadata": {},
   "source": [
    "# Copied from abcmc's ℓerr\n",
    "npts = nrow(df_yⁱ);\n",
    "taxis = [ysol[i].yˢ.tlvl.t₀[1] for i=1:length(ysol)];\n",
    "\n",
    "yⁱ_daily = Vector{Float64}(undef,npts);\n",
    "#  Total infections during this period\n",
    "kT = sum(df_yⁱ[!,\"daily_confirm\"]);\n",
    "#  ∫yⁱdt at s=0 by trapezoidal rule\n",
    "∫yⁱdt = 0.0;\n",
    "@inbounds for k=2:length(taxis)\n",
    "    ∫yⁱdt += (ysol[k].yⁱ.ys[1]+ysol[k-1].yⁱ.ys[1])/2*(taxis[k]-taxis[k-1]);\n",
    "end\n",
    "neff = kT/∫yⁱdt;\n",
    "\n",
    "# Compute difference in daily incidence between model prediction and observed\n",
    "@inbounds for k=1:npts\n",
    "    tnow = k-1.0;\n",
    "    ℓ = myfindfirst(taxis,tnow);\n",
    "    ℓ = ℓ==1 ? 2 : ℓ;\n",
    "    ynow = myinterp(tnow,ysol[ℓ-1].yⁱ,ysol[ℓ].yⁱ);\n",
    "    yⁱ_daily[k] = neff*eval(ynow,0.0);\n",
    "end "
   ]
  },
  {
   "cell_type": "code",
   "execution_count": null,
   "id": "major-viking",
   "metadata": {},
   "outputs": [],
   "source": [
    "# Extract error for this trajectory\n",
    "rms,yⁱ_daily = ℓerr(ysol;prm=prm);\n",
    "\n",
    "# Compute 95% quantiles\n",
    "qlow = [quantile(dftrjabc[i,2:end],0.0001) for i=1:nrow(dftrj)];\n",
    "qhgh = [quantile(dftrjabc[i,2:end],0.9999) for i=1:nrow(dftrj)];"
   ]
  },
  {
   "cell_type": "code",
   "execution_count": null,
   "id": "innocent-polymer",
   "metadata": {},
   "outputs": [],
   "source": [
    "npts = nrow(df_yⁱ);\n",
    "plot(df_yⁱ[!,:time],df_yⁱ[!,:daily_confirm],linewidth=1,labels=\"ODH raw\",linestyle=:dash,\n",
    "     title=\"ODH Daily Cases\",xlabel=\"date\",ylabel=\"count\",size=(400,225));\n",
    "odhavg = Vector{Float64}(undef,npts);\n",
    "@inbounds for i=1:npts\n",
    "    Σ=0.0; ct = 0;\n",
    "    for k=-3:3\n",
    "        try\n",
    "            Σ += df_yⁱ[i+k,:daily_confirm];\n",
    "            ct += 1;\n",
    "        catch\n",
    "            true;\n",
    "        end\n",
    "    end\n",
    "    odhavg[i] = Σ/ct;\n",
    "end\n",
    "plot!(df_yⁱ[!,:time],odhavg,linewidth=3,labels=\"ODH 7 day mvavg\");\n",
    "plot!(df_yⁱ[!,:time],yⁱ_daily[1:npts],linewidth=3,labels=\"model\",\n",
    "                     ribbon=(yⁱ_daily[1:npts]-qlow,qhgh-yⁱ_daily[1:npts]),\n",
    "                     linestyle=:dashdot)\n",
    "plot!(legend=:bottomright)\n",
    "plot!(size=(figwdth*0.75*λplot,fighght*λplot),\n",
    "      tickfontsize=round(figtickfontsize*λfont),guidefontsize=round(figguidefontsize*λfont),\n",
    "      titlefontsize=round(figtitlefontsize*λfont))"
   ]
  },
  {
   "cell_type": "code",
   "execution_count": null,
   "id": "involved-petite",
   "metadata": {},
   "outputs": [],
   "source": [
    "savefig(\"abcvar.pdf\");"
   ]
  },
  {
   "cell_type": "code",
   "execution_count": null,
   "id": "organized-logic",
   "metadata": {},
   "outputs": [],
   "source": []
  }
 ],
 "metadata": {
  "kernelspec": {
   "display_name": "Julia 1.7.1",
   "language": "julia",
   "name": "julia-1.7"
  },
  "language_info": {
   "file_extension": ".jl",
   "mimetype": "application/julia",
   "name": "julia",
   "version": "1.7.1"
  }
 },
 "nbformat": 4,
 "nbformat_minor": 5
}
