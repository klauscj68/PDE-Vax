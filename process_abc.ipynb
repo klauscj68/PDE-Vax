{
 "cells": [
  {
   "cell_type": "markdown",
   "id": "insured-diploma",
   "metadata": {},
   "source": [
    "# Analyze the ABC output"
   ]
  },
  {
   "cell_type": "code",
   "execution_count": null,
   "id": "chronic-bride",
   "metadata": {},
   "outputs": [],
   "source": [
    "using CSV,DataFrames,Plots,Statistics,Distributions,Measures\n",
    "gr();\n",
    "\n",
    "include(\"auxilliary.jl\"); include(\"parameters.jl\"); include(\"flow.jl\"); include(\"abcmc.jl\");\n",
    "ENV[\"COLUMNS\"]=200;"
   ]
  },
  {
   "cell_type": "markdown",
   "id": "variable-contrary",
   "metadata": {},
   "source": [
    "## Inputs"
   ]
  },
  {
   "cell_type": "code",
   "execution_count": null,
   "id": "unnecessary-reduction",
   "metadata": {},
   "outputs": [],
   "source": [
    "# File of abc samples\n",
    "df = CSV.read(\"ABCsmp.csv\",DataFrame,header=false);\n",
    "\n",
    "# threshold for ℓerr cutoff, given as a top quantile (eg 0.05 is top 5%)\n",
    "qℓ = 0.1;"
   ]
  },
  {
   "cell_type": "markdown",
   "id": "common-revolution",
   "metadata": {},
   "source": [
    "## Extract samples"
   ]
  },
  {
   "cell_type": "code",
   "execution_count": null,
   "id": "valuable-independence",
   "metadata": {},
   "outputs": [],
   "source": [
    "ncols = ncol(df)-1; nℓcols = qℓ*ncols;\n",
    "println(\"The total number of abc sampling before conditioning: $ncols\")\n",
    "println(\"The total number of abc sampling after conditioning with top $qℓ quantile: $nℓcols\")"
   ]
  },
  {
   "cell_type": "code",
   "execution_count": null,
   "id": "motivated-hearing",
   "metadata": {},
   "outputs": [],
   "source": [
    "prmrg,prmvary=abcdata();prmvary[:ℓerr]=true;prmvary[:βθ]=true;\n",
    "println(\"Varied parameters:\")\n",
    "for key in keys(prmvary)\n",
    "    if prmvary[key]\n",
    "        println(key)\n",
    "    end\n",
    "end"
   ]
  },
  {
   "cell_type": "code",
   "execution_count": null,
   "id": "narrow-slide",
   "metadata": {},
   "outputs": [],
   "source": [
    "# Create dictionary of row position of key parameters;\n",
    "mykeys = [key for key in keys(prmvary)]; mykeys=vcat(mykeys,[:ℓerr,:βθ])\n",
    "pnt=Dict{Symbol,Int64}()\n",
    "for key in mykeys\n",
    "    pos = 1;\n",
    "    while df[pos,1]!=string(key)\n",
    "        pos+=1;\n",
    "    end\n",
    "    pnt[key]=pos;\n",
    "end;\n",
    "\n",
    "# Extract marginal values before conditioning on threshold\n",
    "marginals = Dict{Symbol,Vector{Float64}}();\n",
    "for key in keys(prmvary)\n",
    "    if prmvary[key]\n",
    "        marginals[key] = [v for v in df[pnt[key],2:end]];\n",
    "    end\n",
    "end\n",
    "flag = marginals[:ℓerr] .< quantile(marginals[:ℓerr],qℓ);\n",
    "for key in keys(marginals)\n",
    "    marginals[key] = marginals[key][flag]\n",
    "end;"
   ]
  },
  {
   "cell_type": "markdown",
   "id": "otherwise-reservoir",
   "metadata": {},
   "source": [
    "## Plot marginal distributions"
   ]
  },
  {
   "cell_type": "code",
   "execution_count": null,
   "id": "active-arrow",
   "metadata": {},
   "outputs": [],
   "source": [
    "histogram(marginals[:ℓerr],title=\"ℓerr\",labels=\"\",size=(500,250),normalize=:pdf)"
   ]
  },
  {
   "cell_type": "code",
   "execution_count": null,
   "id": "interstate-leadership",
   "metadata": {},
   "outputs": [],
   "source": [
    "histogram(marginals[:ρ],title=\"ρ\",labels=\"\",size=(500,250),normalize=:pdf)"
   ]
  },
  {
   "cell_type": "code",
   "execution_count": null,
   "id": "sitting-mineral",
   "metadata": {},
   "outputs": [],
   "source": [
    "histogram(marginals[:αeff],title=\"αeff\",labels=\"\",size=(500,250),normalize=:pdf)"
   ]
  },
  {
   "cell_type": "code",
   "execution_count": null,
   "id": "owned-emission",
   "metadata": {},
   "outputs": [],
   "source": [
    "histogram(marginals[:βα],title=\"βα\",labels=\"\",size=(500,250),normalize=:pdf)"
   ]
  },
  {
   "cell_type": "code",
   "execution_count": null,
   "id": "closed-pantyhose",
   "metadata": {},
   "outputs": [],
   "source": [
    "histogram(marginals[:γα],title=\"γα\",labels=\"\",size=(500,250),normalize=:pdf)"
   ]
  },
  {
   "cell_type": "code",
   "execution_count": null,
   "id": "differential-expense",
   "metadata": {},
   "outputs": [],
   "source": [
    "histogram(marginals[:γθ],title=\"γθ\",labels=\"\",size=(500,250),normalize=:pdf)"
   ]
  },
  {
   "cell_type": "code",
   "execution_count": null,
   "id": "unavailable-vampire",
   "metadata": {},
   "outputs": [],
   "source": [
    "histogram2d(marginals[:γθ],marginals[:γα],labels=\"\",xlabel=\"γθ\",ylabel=\"γα\",size=(500,250))"
   ]
  },
  {
   "cell_type": "code",
   "execution_count": null,
   "id": "grand-peeing",
   "metadata": {},
   "outputs": [],
   "source": [
    "βμ = [mean(Weibull(marginals[:βα][i],marginals[:βθ][i])) for i=1:length(marginals[:βα])];\n",
    "γμ = [mean(Weibull(marginals[:γα][i],marginals[:γθ][i])) for i=1:length(marginals[:γα])];\n",
    "\n",
    "histogram2d(βμ,γμ,xlabel=\"Length of infectious period mean\",ylabel=\"Length of recovery period mean\",size=(500,325))"
   ]
  },
  {
   "cell_type": "markdown",
   "id": "logical-abraham",
   "metadata": {},
   "source": [
    "## Pearson correlation coefficients"
   ]
  },
  {
   "cell_type": "code",
   "execution_count": null,
   "id": "absent-aquarium",
   "metadata": {},
   "outputs": [],
   "source": [
    "μs = Dict{Symbol,Float64}(); σs = Dict{Symbol,Float64}();\n",
    "for key in keys(marginals)\n",
    "    μs[key] = sum(marginals[key])/length(marginals[key]);\n",
    "    σs[key] = √( sum((marginals[key].-μs[key]).^2)/length(marginals[key]) );\n",
    "end\n",
    "n=length(keys(marginals));\n",
    "PC = Matrix{Float64}(undef,n,n); id₁=0;\n",
    "for key₁ in keys(marginals)\n",
    "    id₁+=1;\n",
    "    id₂=0;\n",
    "    for key₂ in keys(marginals)\n",
    "        id₂+=1;\n",
    "        PC[id₁,id₂] = sum( (marginals[key₁].-μs[key₁]).*(marginals[key₂].-μs[key₂]) )/(σs[key₁]*σs[key₂]);\n",
    "        PC[id₁,id₂] *= 1/length(marginals[key₁]);\n",
    "    end\n",
    "end;"
   ]
  },
  {
   "cell_type": "code",
   "execution_count": null,
   "id": "compound-poison",
   "metadata": {},
   "outputs": [],
   "source": [
    "dfpc = DataFrame(\"prm\"=>[key for key in keys(marginals)]);\n",
    "pos = 0;\n",
    "for key in keys(marginals)\n",
    "    pos += 1;\n",
    "    dfpc[!,string(key)] = convert(Vector,PC[:,pos]);\n",
    "end\n",
    "println(\"Pearson correlation coefficients (remember βθ is not free):\")\n",
    "dfpc"
   ]
  },
  {
   "cell_type": "markdown",
   "id": "imperial-fight",
   "metadata": {},
   "source": [
    "# Analyze Best Fit"
   ]
  },
  {
   "cell_type": "markdown",
   "id": "satisfied-writing",
   "metadata": {},
   "source": [
    "## Inputs"
   ]
  },
  {
   "cell_type": "code",
   "execution_count": null,
   "id": "forward-payment",
   "metadata": {},
   "outputs": [],
   "source": [
    "nnd = 2500; nndsmp = 2500;\n",
    "atol = 1e-5;\n",
    "rtol = 1e-3;"
   ]
  },
  {
   "cell_type": "markdown",
   "id": "alternative-glory",
   "metadata": {},
   "source": [
    "## Simulate the best fit"
   ]
  },
  {
   "cell_type": "code",
   "execution_count": null,
   "id": "banned-luxury",
   "metadata": {},
   "outputs": [],
   "source": [
    "df[!,1] = Symbol.(df[!,1])\n",
    "\n",
    "# Find best fit\n",
    "idℓerr = 1;\n",
    "while df[idℓerr,1]!=:ℓerr\n",
    "    idℓerr+=1;\n",
    "end\n",
    "\n",
    "ℓs = [df[idℓerr,k] for k=2:ncol(df)]\n",
    "ℓbf = minimum(ℓs);\n",
    "pos = findfirst(ℓs.==ℓbf) + 1;"
   ]
  },
  {
   "cell_type": "code",
   "execution_count": null,
   "id": "capable-lithuania",
   "metadata": {},
   "outputs": [],
   "source": [
    "# Prepare the data vector\n",
    "vkeys = df[:,1]; prm,_=rdprm(df[:,pos],vkeys);\n",
    "\n",
    "# Set the input discretizations\n",
    "prm[:nnd][1] = nnd; prm[:atol][1] = atol; prm[:rtol][1] = rtol; prm[:nndsmp][1] = nndsmp;\n",
    "data!(prm);"
   ]
  },
  {
   "cell_type": "code",
   "execution_count": null,
   "id": "english-simpson",
   "metadata": {},
   "outputs": [],
   "source": [
    "# Run the simulation\n",
    "ysol,yʳsol = pdesolve(;prm=prm);"
   ]
  },
  {
   "cell_type": "markdown",
   "id": "operational-afternoon",
   "metadata": {},
   "source": [
    "## Plot equation coefficients"
   ]
  },
  {
   "cell_type": "code",
   "execution_count": null,
   "id": "defensive-application",
   "metadata": {},
   "outputs": [],
   "source": [
    "plot(:α;prm=prm)"
   ]
  },
  {
   "cell_type": "code",
   "execution_count": null,
   "id": "generic-investor",
   "metadata": {},
   "outputs": [],
   "source": [
    "plot(:β;prm=prm)"
   ]
  },
  {
   "cell_type": "code",
   "execution_count": null,
   "id": "latin-caution",
   "metadata": {},
   "outputs": [],
   "source": [
    "plot(:γ;prm=prm)"
   ]
  },
  {
   "cell_type": "code",
   "execution_count": null,
   "id": "conservative-recipient",
   "metadata": {},
   "outputs": [],
   "source": [
    "plot(:Weibull;prm=prm)"
   ]
  },
  {
   "cell_type": "code",
   "execution_count": null,
   "id": "difficult-shakespeare",
   "metadata": {},
   "outputs": [],
   "source": [
    "plot(:fˢ;prm=prm)"
   ]
  },
  {
   "cell_type": "code",
   "execution_count": null,
   "id": "southwest-honduras",
   "metadata": {},
   "outputs": [],
   "source": [
    "plot(:fⁱ;prm=prm)"
   ]
  },
  {
   "cell_type": "markdown",
   "id": "contemporary-regular",
   "metadata": {},
   "source": [
    "## Plot best fit solution"
   ]
  },
  {
   "cell_type": "code",
   "execution_count": null,
   "id": "ongoing-brick",
   "metadata": {},
   "outputs": [],
   "source": [
    "plot(ysol)"
   ]
  },
  {
   "cell_type": "code",
   "execution_count": null,
   "id": "popular-influence",
   "metadata": {},
   "outputs": [],
   "source": [
    "plot(ysol,yʳsol;prm=prm)"
   ]
  },
  {
   "cell_type": "code",
   "execution_count": null,
   "id": "enclosed-facing",
   "metadata": {},
   "outputs": [],
   "source": [
    "plotbd(ysol;prm=prm)"
   ]
  },
  {
   "cell_type": "markdown",
   "id": "employed-sperm",
   "metadata": {},
   "source": [
    "### Plot errors with ODH"
   ]
  },
  {
   "cell_type": "code",
   "execution_count": null,
   "id": "literary-quest",
   "metadata": {},
   "outputs": [],
   "source": [
    "df_yˢ = CSV.read(\"ODH_ys.csv\",DataFrame);\n",
    "first(df_yˢ,7)"
   ]
  },
  {
   "cell_type": "code",
   "execution_count": null,
   "id": "mounted-approach",
   "metadata": {},
   "outputs": [],
   "source": [
    "# Compute relative yserr's\n",
    "yserr = Matrix{Float64}(undef,nrow(df_yˢ),9);\n",
    "\n",
    "# Adapted from abcmc.jl\n",
    "npts = length(df_yˢ[!,\"time\"]);\n",
    "taxis = [ysol[i].yˢ.tlvl.t₀[1] for i=1:length(ysol)]; \n",
    "\n",
    "@inbounds for k=1:npts\n",
    "    tnow = df_yˢ[!,\"time\"][k];\n",
    "    yserr[k,1] = df_yˢ[!,\"0-9\"][k]; yserr[k,2] = df_yˢ[!,\"10-19\"][k]; yserr[k,3] = df_yˢ[!,\"20-29\"][k];\n",
    "    yserr[k,4] = df_yˢ[!,\"30-39\"][k]; yserr[k,5] = df_yˢ[!,\"40-49\"][k]; yserr[k,6] = df_yˢ[!,\"50-59\"][k];\n",
    "    yserr[k,7] = df_yˢ[!,\"60-69\"][k]; yserr[k,8] = df_yˢ[!,\"70-79\"][k]; yserr[k,9] = df_yˢ[!,\"80+\"][k];\n",
    "    \n",
    "    ℓ = myfindfirst(taxis,tnow|>Float64);\n",
    "    ℓ = ℓ==1 ? 2 : ℓ;\n",
    "    ynow = myinterp(tnow|>Float64,ysol[ℓ-1].yˢ,ysol[ℓ].yˢ);\n",
    "    \n",
    "    yserr[k,1] = abs(yserr[k,1]-eval(ynow,5.0*365))/abs(yserr[k,1]); \n",
    "    yserr[k,2] = abs(yserr[k,2]-eval(ynow,15.0*365))/abs(yserr[k,2]); \n",
    "    yserr[k,3] = abs(yserr[k,3]-eval(ynow,25.0*365))/abs(yserr[k,3]);\n",
    "    yserr[k,4] = abs(yserr[k,4]-eval(ynow,35.0*365))/abs(yserr[k,4]); \n",
    "    yserr[k,5] = abs(yserr[k,5]-eval(ynow,45.0*365))/abs(yserr[k,5]); \n",
    "    yserr[k,6] = abs(yserr[k,6]-eval(ynow,55.0*365))/abs(yserr[k,6]);\n",
    "    yserr[k,7] = abs(yserr[k,7]-eval(ynow,65.0*365))/abs(yserr[k,7]); \n",
    "    yserr[k,8] = abs(yserr[k,8]-eval(ynow,75.0*365))/abs(yserr[k,8]); \n",
    "    yserr[k,9] = abs(yserr[k,9]-eval(ynow,90.0*365))/abs(yserr[k,9]);\n",
    "end"
   ]
  },
  {
   "cell_type": "code",
   "execution_count": null,
   "id": "ruled-curve",
   "metadata": {},
   "outputs": [],
   "source": [
    "heatmap([5,15,25,35,45,55,65,75,90],df_yˢ[!,\"date\"],yserr,\n",
    "         title=\"yˢ relative error\",xlabel=\"age\",ylabel=\"date\",\n",
    "        size=(600,300))"
   ]
  },
  {
   "cell_type": "code",
   "execution_count": null,
   "id": "christian-honolulu",
   "metadata": {},
   "outputs": [],
   "source": [
    "df_yⁱ = CSV.read(\"ODH_yi.csv\",DataFrame);\n",
    "last(df_yⁱ,7)"
   ]
  },
  {
   "cell_type": "code",
   "execution_count": null,
   "id": "noted-charter",
   "metadata": {},
   "outputs": [],
   "source": [
    "yierr = Vector{Float64}(undef,length(df_yⁱ[!,\"time\"]));\n",
    "ntpts = length(df_yⁱ[!,\"time\"]);\n",
    "@inbounds for k=1:ntpts\n",
    "    tnow = df_yⁱ[!,\"time\"][k]|>Float64;\n",
    "    ℓ = myfindfirst(taxis,tnow);\n",
    "    ℓ = ℓ==1 ? 2 : ℓ;\n",
    "    ynow = myinterp(tnow,ysol[ℓ-1].yⁱ,ysol[ℓ].yⁱ);\n",
    "    \n",
    "    yierr[k] = abs(df_yⁱ[!,:yi][k]-eval(ynow,0.0))/abs(df_yⁱ[!,:yi][k]);\n",
    "end"
   ]
  },
  {
   "cell_type": "code",
   "execution_count": null,
   "id": "innocent-polymer",
   "metadata": {},
   "outputs": [],
   "source": [
    "plot(df_yⁱ[!,:date],yierr,linewidth=3,labels=\"\",\n",
    "     title=\"yⁱ relative error in daily incidence\",\n",
    "     xlabel=\"date\",ylabel=\"rel error\",size=(400,225))"
   ]
  },
  {
   "cell_type": "code",
   "execution_count": null,
   "id": "recreational-playback",
   "metadata": {},
   "outputs": [],
   "source": []
  }
 ],
 "metadata": {
  "kernelspec": {
   "display_name": "Julia 1.7.1",
   "language": "julia",
   "name": "julia-1.7"
  },
  "language_info": {
   "file_extension": ".jl",
   "mimetype": "application/julia",
   "name": "julia",
   "version": "1.7.1"
  }
 },
 "nbformat": 4,
 "nbformat_minor": 5
}
