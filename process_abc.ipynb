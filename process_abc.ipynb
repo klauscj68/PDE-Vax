{
 "cells": [
  {
   "cell_type": "markdown",
   "id": "insured-diploma",
   "metadata": {},
   "source": [
    "# Analyze the ABC output"
   ]
  },
  {
   "cell_type": "code",
   "execution_count": null,
   "id": "chronic-bride",
   "metadata": {},
   "outputs": [],
   "source": [
    "using CSV,DataFrames,Plots,Statistics,Distributions,Measures\n",
    "gr();\n",
    "\n",
    "include(\"auxilliary.jl\"); include(\"parameters.jl\"); include(\"flow.jl\"); include(\"abcmc.jl\");\n",
    "ENV[\"COLUMNS\"]=200;"
   ]
  },
  {
   "cell_type": "markdown",
   "id": "variable-contrary",
   "metadata": {},
   "source": [
    "## Inputs"
   ]
  },
  {
   "cell_type": "code",
   "execution_count": null,
   "id": "unnecessary-reduction",
   "metadata": {},
   "outputs": [],
   "source": [
    "# Dataframe of abc samples\n",
    "frt = 1; lst = 1;\n",
    "df = CSV.read(\"ABCsmp$frt.csv\",DataFrame,header=false);\n",
    "for id=frt+1:lst\n",
    "    dftemp = CSV.read(\"ABCsmp$id.csv\",DataFrame,header=false);\n",
    "    df = hcat(df,dftemp[:,2:end],makeunique=true);\n",
    "end\n",
    "\n",
    "# Dataframe of trajectories\n",
    "dftrj = CSV.read(\"ABCtrj$frt.csv\",DataFrame,header=false);\n",
    "for id=frt+1:lst\n",
    "    dftemp = CSV.read(\"ABCtrj$id.csv\",DataFrame,header=false);\n",
    "    dftrj = hcat(dftrj,dftemp[:,2:end],makeunique=true);\n",
    "end\n",
    "\n",
    "# threshold for ℓerr cutoff, given as a top quantile (eg 0.05 is top 5%)\n",
    "qℓ = 1.0;"
   ]
  },
  {
   "cell_type": "markdown",
   "id": "common-revolution",
   "metadata": {},
   "source": [
    "## Extract samples"
   ]
  },
  {
   "cell_type": "code",
   "execution_count": null,
   "id": "valuable-independence",
   "metadata": {},
   "outputs": [],
   "source": [
    "ncols = ncol(df)-1; nℓcols = qℓ*ncols;\n",
    "println(\"The total number of abc sampling before conditioning: $ncols\")\n",
    "println(\"The total number of abc sampling after conditioning with top $qℓ quantile: $nℓcols\")"
   ]
  },
  {
   "cell_type": "code",
   "execution_count": null,
   "id": "motivated-hearing",
   "metadata": {},
   "outputs": [],
   "source": [
    "prmrg,prmvary=abcdata();prmvary[:ℓerr]=true;prmvary[:βθ]=true;\n",
    "println(\"Varied parameters:\")\n",
    "for key in keys(prmvary)\n",
    "    if prmvary[key]\n",
    "        println(key)\n",
    "    end\n",
    "end"
   ]
  },
  {
   "cell_type": "code",
   "execution_count": null,
   "id": "narrow-slide",
   "metadata": {},
   "outputs": [],
   "source": [
    "# Create dictionary of row position of key parameters;\n",
    "mykeys = [key for key in keys(prmvary)]; mykeys=vcat(mykeys,[:ℓerr,:βθ])\n",
    "pnt=Dict{Symbol,Int64}()\n",
    "for key in mykeys\n",
    "    pos = 1;\n",
    "    while df[pos,1]!=string(key)\n",
    "        pos+=1;\n",
    "    end\n",
    "    pnt[key]=pos;\n",
    "end;\n",
    "\n",
    "# Extract marginal values conditioned on threshold\n",
    "marginals = Dict{Symbol,Vector{Float64}}();\n",
    "for key in keys(prmvary)\n",
    "    if prmvary[key]\n",
    "        marginals[key] = [v for v in df[pnt[key],2:end]];\n",
    "    end\n",
    "end\n",
    "flag = marginals[:ℓerr] .<= quantile(marginals[:ℓerr],qℓ);\n",
    "for key in keys(marginals)\n",
    "    marginals[key] = marginals[key][flag]\n",
    "end;\n",
    "\n",
    "# Extract trajectories conditioned on threshold\n",
    "dftrjabc = dftrj[:,2:end];\n",
    "dftrjabc = dftrjabc[:,flag];\n",
    "dftrjabc = hcat(DataFrame(\"day\"=>convert(Vector,0:(nrow(dftrjabc)-1))),dftrjabc);\n",
    "last(dftrjabc,7)"
   ]
  },
  {
   "cell_type": "markdown",
   "id": "otherwise-reservoir",
   "metadata": {},
   "source": [
    "## Plot marginal distributions"
   ]
  },
  {
   "cell_type": "code",
   "execution_count": null,
   "id": "active-arrow",
   "metadata": {},
   "outputs": [],
   "source": [
    "histogram(marginals[:ℓerr],title=\"ℓerr\",labels=\"\",size=(500,250),normalize=:pdf)"
   ]
  },
  {
   "cell_type": "code",
   "execution_count": null,
   "id": "interstate-leadership",
   "metadata": {},
   "outputs": [],
   "source": [
    "histogram(marginals[:ρ],title=\"ρ\",labels=\"\",size=(500,250),normalize=:pdf)"
   ]
  },
  {
   "cell_type": "code",
   "execution_count": null,
   "id": "sitting-mineral",
   "metadata": {},
   "outputs": [],
   "source": [
    "histogram(marginals[:αeff],title=\"αeff\",labels=\"\",size=(500,250),normalize=:pdf)"
   ]
  },
  {
   "cell_type": "code",
   "execution_count": null,
   "id": "owned-emission",
   "metadata": {},
   "outputs": [],
   "source": [
    "histogram(marginals[:βα],title=\"βα\",labels=\"\",size=(500,250),normalize=:pdf)"
   ]
  },
  {
   "cell_type": "code",
   "execution_count": null,
   "id": "closed-pantyhose",
   "metadata": {},
   "outputs": [],
   "source": [
    "histogram(marginals[:γα],title=\"γα\",labels=\"\",size=(500,250),normalize=:pdf)"
   ]
  },
  {
   "cell_type": "code",
   "execution_count": null,
   "id": "differential-expense",
   "metadata": {},
   "outputs": [],
   "source": [
    "histogram(marginals[:γθ],title=\"γθ\",labels=\"\",size=(500,250),normalize=:pdf)"
   ]
  },
  {
   "cell_type": "code",
   "execution_count": null,
   "id": "unavailable-vampire",
   "metadata": {},
   "outputs": [],
   "source": [
    "histogram2d(marginals[:γθ],marginals[:γα],labels=\"\",xlabel=\"γθ\",ylabel=\"γα\",size=(500,250))"
   ]
  },
  {
   "cell_type": "code",
   "execution_count": null,
   "id": "grand-peeing",
   "metadata": {},
   "outputs": [],
   "source": [
    "βμ = [mean(Weibull(marginals[:βα][i],marginals[:βθ][i])) for i=1:length(marginals[:βα])];\n",
    "γμ = [mean(Weibull(marginals[:γα][i],marginals[:γθ][i])) for i=1:length(marginals[:γα])];\n",
    "\n",
    "histogram2d(βμ,γμ,xlabel=\"Length of infectious period mean\",ylabel=\"Length of recovery period mean\",size=(500,325))"
   ]
  },
  {
   "cell_type": "markdown",
   "id": "logical-abraham",
   "metadata": {},
   "source": [
    "## Pearson correlation coefficients"
   ]
  },
  {
   "cell_type": "code",
   "execution_count": null,
   "id": "absent-aquarium",
   "metadata": {},
   "outputs": [],
   "source": [
    "μs = Dict{Symbol,Float64}(); σs = Dict{Symbol,Float64}();\n",
    "for key in keys(marginals)\n",
    "    μs[key] = sum(marginals[key])/length(marginals[key]);\n",
    "    σs[key] = √( sum((marginals[key].-μs[key]).^2)/length(marginals[key]) );\n",
    "end\n",
    "n=length(keys(marginals));\n",
    "PC = Matrix{Float64}(undef,n,n); id₁=0;\n",
    "for key₁ in keys(marginals)\n",
    "    id₁+=1;\n",
    "    id₂=0;\n",
    "    for key₂ in keys(marginals)\n",
    "        id₂+=1;\n",
    "        PC[id₁,id₂] = sum( (marginals[key₁].-μs[key₁]).*(marginals[key₂].-μs[key₂]) )/(σs[key₁]*σs[key₂]);\n",
    "        PC[id₁,id₂] *= 1/length(marginals[key₁]);\n",
    "    end\n",
    "end;"
   ]
  },
  {
   "cell_type": "code",
   "execution_count": null,
   "id": "compound-poison",
   "metadata": {},
   "outputs": [],
   "source": [
    "dfpc = DataFrame(\"prm\"=>[key for key in keys(marginals)]);\n",
    "pos = 0;\n",
    "for key in keys(marginals)\n",
    "    pos += 1;\n",
    "    dfpc[!,string(key)] = convert(Vector,PC[:,pos]);\n",
    "end\n",
    "println(\"Pearson correlation coefficients (remember βθ is not free):\")\n",
    "dfpc"
   ]
  },
  {
   "cell_type": "markdown",
   "id": "imperial-fight",
   "metadata": {},
   "source": [
    "# Analyze Best Fit"
   ]
  },
  {
   "cell_type": "markdown",
   "id": "satisfied-writing",
   "metadata": {},
   "source": [
    "## Inputs"
   ]
  },
  {
   "cell_type": "code",
   "execution_count": null,
   "id": "forward-payment",
   "metadata": {},
   "outputs": [],
   "source": [
    "nnd = 2500; nndsmp = 2500;\n",
    "atol = 1e-5;\n",
    "rtol = 1e-3;"
   ]
  },
  {
   "cell_type": "markdown",
   "id": "alternative-glory",
   "metadata": {},
   "source": [
    "## Simulate the best fit"
   ]
  },
  {
   "cell_type": "code",
   "execution_count": null,
   "id": "banned-luxury",
   "metadata": {},
   "outputs": [],
   "source": [
    "df[!,1] = Symbol.(df[!,1])\n",
    "\n",
    "# Find best fit\n",
    "idℓerr = 1;\n",
    "while df[idℓerr,1]!=:ℓerr\n",
    "    idℓerr+=1;\n",
    "end\n",
    "\n",
    "ℓs = [df[idℓerr,k] for k=2:ncol(df)]\n",
    "ℓbf = minimum(ℓs);\n",
    "pos = findfirst(ℓs.==ℓbf) + 1;"
   ]
  },
  {
   "cell_type": "code",
   "execution_count": null,
   "id": "capable-lithuania",
   "metadata": {},
   "outputs": [],
   "source": [
    "# Prepare the data vector\n",
    "vkeys = df[:,1]; prm,_=rdprm(df[:,pos],vkeys);\n",
    "\n",
    "# Set the input discretizations\n",
    "prm[:nnd][1] = nnd; prm[:atol][1] = atol; prm[:rtol][1] = rtol; prm[:nndsmp][1] = nndsmp;\n",
    "data!(prm);"
   ]
  },
  {
   "cell_type": "code",
   "execution_count": null,
   "id": "english-simpson",
   "metadata": {},
   "outputs": [],
   "source": [
    "# Run the simulation\n",
    "ysol,yʳsol = pdesolve(;prm=prm);"
   ]
  },
  {
   "cell_type": "markdown",
   "id": "operational-afternoon",
   "metadata": {},
   "source": [
    "## Plot equation coefficients"
   ]
  },
  {
   "cell_type": "code",
   "execution_count": null,
   "id": "defensive-application",
   "metadata": {},
   "outputs": [],
   "source": [
    "plot(:α;prm=prm)"
   ]
  },
  {
   "cell_type": "code",
   "execution_count": null,
   "id": "generic-investor",
   "metadata": {},
   "outputs": [],
   "source": [
    "plot(:β;prm=prm)"
   ]
  },
  {
   "cell_type": "code",
   "execution_count": null,
   "id": "latin-caution",
   "metadata": {},
   "outputs": [],
   "source": [
    "plot(:γ;prm=prm)"
   ]
  },
  {
   "cell_type": "code",
   "execution_count": null,
   "id": "conservative-recipient",
   "metadata": {},
   "outputs": [],
   "source": [
    "plot(:Weibull;prm=prm)"
   ]
  },
  {
   "cell_type": "code",
   "execution_count": null,
   "id": "difficult-shakespeare",
   "metadata": {},
   "outputs": [],
   "source": [
    "plot(:fˢ;prm=prm)"
   ]
  },
  {
   "cell_type": "code",
   "execution_count": null,
   "id": "southwest-honduras",
   "metadata": {},
   "outputs": [],
   "source": [
    "plot(:fⁱ;prm=prm)"
   ]
  },
  {
   "cell_type": "markdown",
   "id": "contemporary-regular",
   "metadata": {},
   "source": [
    "## Plot best fit solution"
   ]
  },
  {
   "cell_type": "code",
   "execution_count": null,
   "id": "ongoing-brick",
   "metadata": {},
   "outputs": [],
   "source": [
    "plot(ysol)"
   ]
  },
  {
   "cell_type": "code",
   "execution_count": null,
   "id": "popular-influence",
   "metadata": {},
   "outputs": [],
   "source": [
    "plot(ysol,yʳsol;prm=prm)"
   ]
  },
  {
   "cell_type": "code",
   "execution_count": null,
   "id": "enclosed-facing",
   "metadata": {},
   "outputs": [],
   "source": [
    "plotbd(ysol;prm=prm)"
   ]
  },
  {
   "cell_type": "markdown",
   "id": "employed-sperm",
   "metadata": {},
   "source": [
    "### Plot errors with ODH"
   ]
  },
  {
   "cell_type": "code",
   "execution_count": null,
   "id": "literary-quest",
   "metadata": {},
   "outputs": [],
   "source": [
    "df_yⁱ = CSV.read(\"ODH_snipdaily.csv\",DataFrame);\n",
    "first(df_yⁱ,3)"
   ]
  },
  {
   "cell_type": "markdown",
   "id": "liberal-maria",
   "metadata": {},
   "source": [
    "# Copied from abcmc's ℓerr\n",
    "npts = nrow(df_yⁱ);\n",
    "taxis = [ysol[i].yˢ.tlvl.t₀[1] for i=1:length(ysol)];\n",
    "\n",
    "yⁱ_daily = Vector{Float64}(undef,npts);\n",
    "#  Total infections during this period\n",
    "kT = sum(df_yⁱ[!,\"daily_confirm\"]);\n",
    "#  ∫yⁱdt at s=0 by trapezoidal rule\n",
    "∫yⁱdt = 0.0;\n",
    "@inbounds for k=2:length(taxis)\n",
    "    ∫yⁱdt += (ysol[k].yⁱ.ys[1]+ysol[k-1].yⁱ.ys[1])/2*(taxis[k]-taxis[k-1]);\n",
    "end\n",
    "neff = kT/∫yⁱdt;\n",
    "\n",
    "# Compute difference in daily incidence between model prediction and observed\n",
    "@inbounds for k=1:npts\n",
    "    tnow = k-1.0;\n",
    "    ℓ = myfindfirst(taxis,tnow);\n",
    "    ℓ = ℓ==1 ? 2 : ℓ;\n",
    "    ynow = myinterp(tnow,ysol[ℓ-1].yⁱ,ysol[ℓ].yⁱ);\n",
    "    yⁱ_daily[k] = neff*eval(ynow,0.0);\n",
    "end "
   ]
  },
  {
   "cell_type": "code",
   "execution_count": null,
   "id": "major-viking",
   "metadata": {},
   "outputs": [],
   "source": [
    "# Extract error for this trajectory\n",
    "rms,yⁱ_daily = ℓerr(ysol;prm=prm);\n",
    "\n",
    "# Compute 95% quantiles\n",
    "qlow = [quantile(dftrj[i,2:end],0.025) for i=1:nrow(dftrj)];\n",
    "qhgh = [quantile(dftrj[i,2:end],0.975) for i=1:nrow(dftrj)];"
   ]
  },
  {
   "cell_type": "code",
   "execution_count": null,
   "id": "innocent-polymer",
   "metadata": {},
   "outputs": [],
   "source": [
    "npts = nrow(df_yⁱ);\n",
    "plot(df_yⁱ[!,:time],df_yⁱ[!,:daily_confirm],linewidth=1,labels=\"ODH raw\",linestyle=:dash,\n",
    "     title=\"ODH Daily Cases\",xlabel=\"date\",ylabel=\"count\",size=(400,225));\n",
    "odhavg = Vector{Float64}(undef,npts);\n",
    "@inbounds for i=1:npts\n",
    "    Σ=0.0; ct = 0;\n",
    "    for k=-3:3\n",
    "        try\n",
    "            Σ += df_yⁱ[i+k,:daily_confirm];\n",
    "            ct += 1;\n",
    "        catch\n",
    "            true;\n",
    "        end\n",
    "    end\n",
    "    odhavg[i] = Σ/ct;\n",
    "end\n",
    "plot!(df_yⁱ[!,:time],odhavg,linewidth=3,labels=\"ODH 7 day mvavg\");\n",
    "plot!(df_yⁱ[!,:time],yⁱ_daily[1:npts],linewidth=3,labels=\"model\",\n",
    "                     ribbon=(yⁱ_daily[1:npts]-qlow,qhgh-yⁱ_daily[1:npts]))"
   ]
  },
  {
   "cell_type": "code",
   "execution_count": null,
   "id": "involved-petite",
   "metadata": {},
   "outputs": [],
   "source": []
  }
 ],
 "metadata": {
  "kernelspec": {
   "display_name": "Julia 1.7.1",
   "language": "julia",
   "name": "julia-1.7"
  },
  "language_info": {
   "file_extension": ".jl",
   "mimetype": "application/julia",
   "name": "julia",
   "version": "1.7.1"
  }
 },
 "nbformat": 4,
 "nbformat_minor": 5
}
